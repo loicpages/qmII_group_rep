{
  "nbformat": 4,
  "nbformat_minor": 0,
  "metadata": {
    "colab": {
      "name": "new_world_map.ipynb",
      "provenance": [],
      "authorship_tag": "ABX9TyNQgl5MwuRD/2QmoWuJRjOG",
      "include_colab_link": true
    },
    "kernelspec": {
      "name": "python3",
      "display_name": "Python 3"
    }
  },
  "cells": [
    {
      "cell_type": "markdown",
      "metadata": {
        "id": "view-in-github",
        "colab_type": "text"
      },
      "source": [
        "<a href=\"https://colab.research.google.com/github/loicpages/qmII_group_rep/blob/main/new_world_map.ipynb\" target=\"_parent\"><img src=\"https://colab.research.google.com/assets/colab-badge.svg\" alt=\"Open In Colab\"/></a>"
      ]
    },
    {
      "cell_type": "code",
      "metadata": {
        "id": "LWSOIBLaFkWf"
      },
      "source": [
        "#importing and installing libraries to work with\n",
        "\n",
        "import pandas as pd\n",
        "!pip install git+git://github.com/geopandas/geopandas.git\n",
        "import geopandas as gpd\n",
        "import PIL\n",
        "import pylab\n",
        "import numpy as math\n",
        "import io\n",
        "import matplotlib.pyplot as plt\n",
        "from functools import reduce\n",
        "%matplotlib inline\n",
        "plt.style.use('ggplot')\n",
        "!pip install mapclassify --quiet\n",
        "import mapclassify.classifiers as classifiers\n",
        "from mapclassify import __version__ as mc_version"
      ],
      "execution_count": null,
      "outputs": []
    },
    {
      "cell_type": "code",
      "metadata": {
        "id": "jiLJG1IDF4UC"
      },
      "source": [
        "data_path = '/content/fa_df.csv'\n",
        "fa_df = pd.read_csv(data_path)\n",
        "data_path2 = '/content/countries_world.csv'\n",
        "cdf = pd.read_csv(data_path2)"
      ],
      "execution_count": null,
      "outputs": []
    },
    {
      "cell_type": "code",
      "metadata": {
        "id": "8-JhpsJGOoKh"
      },
      "source": [
        "data_frames = [fa_df, cdf]\n",
        "df_merged = reduce(lambda  left,right: pd.merge(left,right,on=['Country'],\n",
        "                                            how='outer'), data_frames).fillna(pd.NaT)    \n",
        "df_merged.to_csv(r'Go.csv', index = False)\n",
        "df_merged.sort_values(by=['Country', 'Year'], inplace = True)\n",
        "df_merged.reset_index(drop = True)\n",
        "df_merged.set_index(['Country', 'Year'], inplace = True)\n",
        "data = df_merged.unstack()\n",
        "data.sort_values(by = 'Country', inplace = True)\n",
        "data.to_csv(r'Sorted.csv', index = True)\n",
        "data.replace(pd.NaT, 0)\n",
        "data.drop(['Central African Republic','Congo',\"Cote d'Ivoire\",'Dominican Republic','Gambia','Korea, North','Kosovo','Sudan'], inplace = True)"
      ],
      "execution_count": null,
      "outputs": []
    },
    {
      "cell_type": "code",
      "metadata": {
        "id": "wGMCX-BWT18b"
      },
      "source": [
        "#uploading the world map.\n",
        "world_map = gpd.read_file(r'/content/World_Map.shp')"
      ],
      "execution_count": null,
      "outputs": []
    },
    {
      "cell_type": "code",
      "metadata": {
        "colab": {
          "base_uri": "https://localhost:8080/"
        },
        "id": "H7T_YuG0T4wV",
        "outputId": "76b35b90-9bc2-4250-ffc2-3bed8bd07834"
      },
      "source": [
        "#Using a for loop, iterate through the names of the countries in our food availibility data set and see, using an if statement, which match with the World data set data and which don't. \n",
        "\n",
        "for index, row in data.iterrows():\n",
        "  if index not in world_map['NAME'].to_list():\n",
        "    print(index)\n",
        "  else:\n",
        "    pass"
      ],
      "execution_count": null,
      "outputs": [
        {
          "output_type": "stream",
          "text": [
            "Brunei\n",
            "CAR\n",
            "Congo, Democratic Republic of the\n",
            "Congo, Republic of the\n",
            "Céte d'Ivoire\n",
            "DomRep\n",
            "East Timor (Timor-Leste)\n",
            "Iran\n",
            "Korea, South\n",
            "Laos\n",
            "Libya\n",
            "Macedonia\n",
            "Moldova\n",
            "Myanmar (Burma)\n",
            "North Korea\n",
            "South Sudan\n",
            "Syria\n",
            "Tanzania\n",
            "The Bahamas\n",
            "The Gambia\n",
            "United States of America\n",
            "Vatican City (Holy See)\n",
            "Vietnam\n"
          ],
          "name": "stdout"
        }
      ]
    },
    {
      "cell_type": "code",
      "metadata": {
        "id": "MaZcGx-jVfj9"
      },
      "source": [
        "#replace the names of the countries that don't match.\n",
        "world_map.replace('Central African Republic', 'CAR', inplace = True)\n",
        "world_map.replace('Dominican Republic', 'DomRep', inplace = True)\n",
        "world_map.replace(\"Lao People's Democratic Republic\", 'Laos', inplace = True)\n",
        "world_map.replace('Republic of Moldova', 'Moldova', inplace = True)\n",
        "world_map.replace(\"Korea, Democratic People's Republic of\", 'North Korea', inplace = True)\n",
        "world_map.replace('United Republic of Tanzania', 'Tanzania', inplace = True)\n",
        "world_map.replace('Viet Nam', 'Vietnam', inplace = True)\n",
        "world_map.replace(\"Cote d'Ivoire\", \"Céte d'Ivoire\", inplace = True)\n",
        "world_map.replace('Brunei Darussalam', 'Brunei', inplace = True)\n",
        "world_map.replace('Democratic Republic of the Congo', 'Congo, Democratic Republic of the', inplace = True)\n",
        "world_map.replace(\"Congo\", 'Congo, Republic of the', inplace = True)\n",
        "world_map.replace('Timor-Leste', 'East Timor (Timor-Leste)', inplace = True)\n",
        "world_map.replace('Iran (Islamic Republic of)', 'Iran', inplace = True)\n",
        "world_map.replace(\"Korea, Democratic People's Republic of\", 'Korea, North', inplace = True)\n",
        "world_map.replace('Korea, Republic of', 'Korea, South', inplace = True)\n",
        "world_map.replace('Libyan Arab Jamahiriya', 'Libya', inplace = True)\n",
        "world_map.replace('The former Yugoslav Republic of Macedonia', 'Macedonia', inplace = True)\n",
        "world_map.replace('Burma', 'Myanmar (Burma)', inplace = True)\n",
        "world_map.replace('Sudan', 'South Sudan', inplace = True)\n",
        "world_map.replace('Syrian Arab Republic', 'Syria', inplace = True)\n",
        "world_map.replace('Bahamas', 'The Bahamas', inplace = True)\n",
        "world_map.replace('Gambia', 'The Gambia', inplace = True)\n",
        "world_map.replace('United States', 'United States of America', inplace = True)\n",
        "world_map.replace('Holy See (Vatican City)', 'Vatican City (Holy See)', inplace = True)\n"
      ],
      "execution_count": null,
      "outputs": []
    },
    {
      "cell_type": "code",
      "metadata": {
        "id": "23x79fPdr6xZ"
      },
      "source": [
        "for index, row in data.iterrows():\n",
        "  if index not in world_map['NAME'].to_list():\n",
        "    print(index)\n",
        "  else:\n",
        "    pass"
      ],
      "execution_count": null,
      "outputs": []
    },
    {
      "cell_type": "code",
      "metadata": {
        "id": "7KB8XugXs_j_"
      },
      "source": [
        "#replace the names of the countries that don't match.\n",
        "\n",
        "\n",
        "\n",
        "\n",
        "\n"
      ],
      "execution_count": null,
      "outputs": []
    }
  ]
}