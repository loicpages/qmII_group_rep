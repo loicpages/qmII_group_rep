{
  "nbformat": 4,
  "nbformat_minor": 0,
  "metadata": {
    "colab": {
      "name": "Linegraphs.ipynb",
      "provenance": [],
      "authorship_tag": "ABX9TyMRJJ+Wg4Hf0ZjzBN5YuZpN",
      "include_colab_link": true
    },
    "kernelspec": {
      "name": "python3",
      "display_name": "Python 3"
    }
  },
  "cells": [
    {
      "cell_type": "markdown",
      "metadata": {
        "id": "view-in-github",
        "colab_type": "text"
      },
      "source": [
        "<a href=\"https://colab.research.google.com/github/loicpages/qmII_group_rep/blob/main/Linegraphs.ipynb\" target=\"_parent\"><img src=\"https://colab.research.google.com/assets/colab-badge.svg\" alt=\"Open In Colab\"/></a>"
      ]
    },
    {
      "cell_type": "code",
      "metadata": {
        "id": "01fMYKg2yN7l"
      },
      "source": [
        "import pylab\n",
        "import pandas as pd\n",
        "import numpy as math\n",
        "from google.colab import files\n",
        "import io\n",
        "import matplotlib.pyplot as plt\n",
        "%matplotlib inline\n",
        "plt.style.use('ggplot')"
      ],
      "execution_count": null,
      "outputs": []
    }
  ]
}