{
  "nbformat": 4,
  "nbformat_minor": 0,
  "metadata": {
    "colab": {
      "name": "dynamic_map.ipynb",
      "provenance": [],
      "collapsed_sections": [],
      "authorship_tag": "ABX9TyP5tR9BuudoTZcNTzcXvyRz",
      "include_colab_link": true
    },
    "kernelspec": {
      "name": "python3",
      "display_name": "Python 3"
    }
  },
  "cells": [
    {
      "cell_type": "markdown",
      "metadata": {
        "id": "view-in-github",
        "colab_type": "text"
      },
      "source": [
        "<a href=\"https://colab.research.google.com/github/loicpages/qmII_group_rep/blob/main/Dynamic%20Map.ipynb\" target=\"_parent\"><img src=\"https://colab.research.google.com/assets/colab-badge.svg\" alt=\"Open In Colab\"/></a>"
      ]
    },
    {
      "cell_type": "markdown",
      "metadata": {
        "id": "5DXEGYA1QLJR"
      },
      "source": [
        "To run the code to create the gif of the world map:\n",
        "\n",
        "From our Github repository qmii_group_rep, download the all the Word_Map. files and the fa_df.csv file.\n",
        "Make sure to save them under the '*content*' folder on the left of the colab sheet.\n",
        "All the files are required for the code tho run."
      ]
    },
    {
      "cell_type": "code",
      "metadata": {
        "id": "0gcqjE6QgB5W"
      },
      "source": [
        "#importing and installing libraries to work with\n",
        "\n",
        "import pandas as pd\n",
        "!pip install git+git://github.com/geopandas/geopandas.git\n",
        "import geopandas as gpd\n",
        "import PIL\n",
        "import pylab\n",
        "import numpy as math\n",
        "import io\n",
        "import matplotlib.pyplot as plt\n",
        "from functools import reduce\n",
        "%matplotlib inline\n",
        "plt.style.use('ggplot')"
      ],
      "execution_count": null,
      "outputs": []
    },
    {
      "cell_type": "code",
      "metadata": {
        "id": "kv3sDzp9H5hH"
      },
      "source": [
        "#importing and installing more libraries that we'll need at a later stage\n",
        "\n",
        "!pip install mapclassify --quiet\n",
        "import mapclassify.classifiers as classifiers\n",
        "from mapclassify import __version__ as mc_version"
      ],
      "execution_count": 227,
      "outputs": []
    },
    {
      "cell_type": "code",
      "metadata": {
        "id": "VNqdON49Nshz"
      },
      "source": [
        "#reindexing the food availibility data set and unstacking it.\n",
        "\n",
        "data_path = '/content/fa_df.csv'\n",
        "fa_df = pd.read_csv(data_path)\n",
        "fa_df.set_index(['Country', 'Year'], inplace = True)\n",
        "df2 = fa_df.unstack()\n",
        "df2.sort_values(by = 'Country', inplace = True)\n",
        "df2.to_csv(r'Sorted.csv', index = True)\n",
        "data = df2"
      ],
      "execution_count": 228,
      "outputs": []
    },
    {
      "cell_type": "code",
      "metadata": {
        "id": "xUIXbqv7q_rv"
      },
      "source": [
        "#uploading the world map.\n",
        "\n",
        "world_map = gpd.read_file(r'/content/World_Map.shp')"
      ],
      "execution_count": 229,
      "outputs": []
    },
    {
      "cell_type": "code",
      "metadata": {
        "id": "XaucxDdxtGSC"
      },
      "source": [
        "#Using a for loop, iterate through the names of the countries in our food availibility data set and see, using an if statement, which match with the World data set data and which don't. \n",
        "\n",
        "for index, row in data.iterrows():\n",
        "  if index not in world_map['NAME'].to_list():\n",
        "    print(index)\n",
        "  else:\n",
        "    pass"
      ],
      "execution_count": null,
      "outputs": []
    },
    {
      "cell_type": "code",
      "metadata": {
        "id": "4e38dDPzwfik"
      },
      "source": [
        "#replace the names of the countries that don't match.\n",
        "\n",
        "world_map.replace('Central African Republic', 'CAR', inplace = True)\n",
        "world_map.replace('Dominican Republic', 'DomRep', inplace = True)\n",
        "world_map.replace(\"Lao People's Democratic Republic\", 'Laos', inplace = True)\n",
        "world_map.replace('Republic of Moldova', 'Moldova', inplace = True)\n",
        "world_map.replace(\"Korea, Democratic People's Republic of\", 'North Korea', inplace = True)\n",
        "world_map.replace('United Republic of Tanzania', 'Tanzania', inplace = True)\n",
        "world_map.replace('Viet Nam', 'Vietnam', inplace = True)\n",
        "world_map.replace(\"Cote d'Ivoire\", \"Céte d'Ivoire\", inplace = True)"
      ],
      "execution_count": 231,
      "outputs": []
    },
    {
      "cell_type": "code",
      "metadata": {
        "id": "WRaYgEt9w08c"
      },
      "source": [
        "#check again, if the outcome is void, then all the names correspond to each other.\n",
        "\n",
        "for index, row in data.iterrows():\n",
        "  if index not in world_map['NAME'].to_list():\n",
        "    print(index)\n",
        "  else:\n",
        "    pass"
      ],
      "execution_count": 232,
      "outputs": []
    },
    {
      "cell_type": "code",
      "metadata": {
        "id": "Go1GZycG06Yg"
      },
      "source": [
        "#using a for loop, create maps for every year and store them in a gif file.\n",
        "\n",
        "merged = world_map.join(data, on = 'NAME', how = 'right')\n",
        "images = []\n",
        "for dates in merged.columns.to_list()[2:36]:\n",
        "  ax = merged.plot(column = dates,\n",
        "                   cmap ='OrRd',\n",
        "                   figsize = (15,15),\n",
        "                   legend = True,\n",
        "                   scheme = 'user_defined',\n",
        "                   classification_kwds = {'bins':[0,50,100,150,200,250,500,1000]}, \n",
        "                   edgecolor = 'black', \n",
        "                   linewidth = 0.5)\n",
        "\n",
        "  ax.set_title(dates, fontdict =\n",
        "             {'fontsize':20}, pad = 12.5)\n",
        "  \n",
        "  ax.set_axis_off()\n",
        "  ax.get_legend().set_bbox_to_anchor((0.18, 1.05))\n",
        "\n",
        "  img = ax.get_figure()\n",
        "\n",
        "  variable = io.BytesIO()\n",
        "  img.savefig(variable, format = 'png', bbox_inches = 'tight')\n",
        "  variable.seek(0)\n",
        "  images.append(PIL.Image.open(variable))\n",
        "\n",
        "images[0].save('Dynamic_map.gif', format = 'GIF',\n",
        "               append_images = images[1:],\n",
        "               save_all = True, duration = 300,\n",
        "               loop = 0)\n",
        "\n",
        "variable.close()"
      ],
      "execution_count": null,
      "outputs": []
    },
    {
      "cell_type": "markdown",
      "metadata": {
        "id": "gr25xwwGQ_QL"
      },
      "source": [
        "Then go back to the content folder, the Dynamic Map.gif should be there.\n"
      ]
    }
  ]
}