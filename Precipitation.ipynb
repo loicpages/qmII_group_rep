{
  "nbformat": 4,
  "nbformat_minor": 0,
  "metadata": {
    "colab": {
      "name": "Precipitation",
      "provenance": [],
      "collapsed_sections": [],
      "authorship_tag": "ABX9TyMA2w5lXLLhIs2ggRpKa105",
      "include_colab_link": true
    },
    "kernelspec": {
      "name": "python3",
      "display_name": "Python 3"
    }
  },
  "cells": [
    {
      "cell_type": "markdown",
      "metadata": {
        "id": "view-in-github",
        "colab_type": "text"
      },
      "source": [
        "<a href=\"https://colab.research.google.com/github/loicpages/qmII_group_rep/blob/main/Precipitation.ipynb\" target=\"_parent\"><img src=\"https://colab.research.google.com/assets/colab-badge.svg\" alt=\"Open In Colab\"/></a>"
      ]
    },
    {
      "cell_type": "code",
      "metadata": {
        "colab": {
          "base_uri": "https://localhost:8080/",
          "height": 296
        },
        "id": "Uzs8HhSZQ0PH",
        "outputId": "513a23d2-3352-4e5d-8c49-a1abbf5a24d8"
      },
      "source": [
        "import csv\n",
        "import pandas as pd\n",
        "\n",
        "import urllib.request    \n",
        "\n",
        "#This is the explainatory example. Copy paste the url to access the raw data\n",
        "urllib.request.urlretrieve(\"https://opendata.dwd.de/climate_environment/CDC/observations_global/CLIMAT/monthly/qc/precipitation_total/historical/67964_194901_201709.txt\", \"filename.txt\")\n",
        "\n",
        "df = pd.read_csv(\"filename.txt\",delimiter=';')\n",
        "df.to_csv('filename.csv')\n",
        "df.drop(df.loc[df['Jahr']<1980].index, inplace=True)\n",
        "df['average'] = df.mean(numeric_only=True, axis=1)\n",
        "df\n",
        "df.plot(x='Jahr', y= 'average', kind='line', c = 'blue', label = 'Average monthly rainfall')\n"
      ],
      "execution_count": 51,
      "outputs": [
        {
          "output_type": "execute_result",
          "data": {
            "text/plain": [
              "<matplotlib.axes._subplots.AxesSubplot at 0x7f3d32de0cf8>"
            ]
          },
          "metadata": {
            "tags": []
          },
          "execution_count": 51
        },
        {
          "output_type": "display_data",
          "data": {
            "image/png": "[encoded data removed]",
            "text/plain": [
              "<Figure size 432x288 with 1 Axes>"
            ]
          },
          "metadata": {
            "tags": [],
            "needs_background": "light"
          }
        }
      ]
    },
    {
      "cell_type": "code",
      "metadata": {
        "colab": {
          "base_uri": "https://localhost:8080/",
          "height": 429
        },
        "id": "6jHfp-S_i04D",
        "outputId": "2af62042-570d-4f64-fdd1-2c422de06663"
      },
      "source": [
        "import requests\n",
        "import csv\n",
        "import pandas as pd\n",
        "\n",
        "import urllib.request    \n",
        "\n",
        "#This is a list of all stations in Madagascar. \n",
        "Madagascar  = ['67009_195109_201712.txt','67012_199901_201712.txt','67019_196104_199412.txt','67023_200901_201712.txt','67025_196010_201708.txt','67027_195109_201712.txt','67037_200901_201311.txt','67067_200801_200912.txt','67072_200801_200905.txt','67073_195109_201708.txt','67083_197501_201712.txt','67085_195109_201612.txt','67095_195109_201712.txt','67107_200901_201310.txt','67113_200901_200912.txt','67117_199901_200806.txt','67131_200801_200912.txt','67137_197111_201712.txt','67143_196201_201712.txt','67152_200102_201708.txt','7157_200906_201708.txt','67161_195109_201708.txt','67197_195109_201612.txt']\n",
        "\n",
        "#This loop calls all stations and creates x dataframes for climate data stations. \n",
        "for x in range(len(Madagascar)): \n",
        "  url_str = 'https://opendata.dwd.de/climate_environment/CDC/observations_global/CLIMAT/monthly/qc/precipitation_total/historical/' + Madagascar[x]\n",
        "  urllib.request.urlretrieve(url_str, \"filename.txt\")\n",
        "\n",
        "print(url_str)\n",
        "\n",
        "  #df = pd.read_csv(\"filename.txt\",delimiter=';')\n",
        "  #df.to_csv('filename.csv')\n",
        "  #df.drop(df.loc[df['Jahr']<1980].index, inplace=True)\n",
        "  #df['average'] = df.mean(numeric_only=True, axis=1)\n",
        "\n",
        "df\n",
        "#Concate the dataframes to calculate an average precipation dataframe for the respective countries.\n"
      ],
      "execution_count": 87,
      "outputs": [
        {
          "output_type": "error",
          "ename": "HTTPError",
          "evalue": "ignored",
          "traceback": [
            "\u001b[0;31m---------------------------------------------------------------------------\u001b[0m",
            "\u001b[0;31mHTTPError\u001b[0m                                 Traceback (most recent call last)",
            "\u001b[0;32m<ipython-input-87-64a894927425>\u001b[0m in \u001b[0;36m<module>\u001b[0;34m()\u001b[0m\n\u001b[1;32m     11\u001b[0m \u001b[0;32mfor\u001b[0m \u001b[0mx\u001b[0m \u001b[0;32min\u001b[0m \u001b[0mrange\u001b[0m\u001b[0;34m(\u001b[0m\u001b[0mlen\u001b[0m\u001b[0;34m(\u001b[0m\u001b[0mMadagascar\u001b[0m\u001b[0;34m)\u001b[0m\u001b[0;34m)\u001b[0m\u001b[0;34m:\u001b[0m\u001b[0;34m\u001b[0m\u001b[0;34m\u001b[0m\u001b[0m\n\u001b[1;32m     12\u001b[0m   \u001b[0murl_str\u001b[0m \u001b[0;34m=\u001b[0m \u001b[0;34m'https://opendata.dwd.de/climate_environment/CDC/observations_global/CLIMAT/monthly/qc/precipitation_total/historical/'\u001b[0m \u001b[0;34m+\u001b[0m \u001b[0mMadagascar\u001b[0m\u001b[0;34m[\u001b[0m\u001b[0mx\u001b[0m\u001b[0;34m]\u001b[0m\u001b[0;34m\u001b[0m\u001b[0;34m\u001b[0m\u001b[0m\n\u001b[0;32m---> 13\u001b[0;31m   \u001b[0murllib\u001b[0m\u001b[0;34m.\u001b[0m\u001b[0mrequest\u001b[0m\u001b[0;34m.\u001b[0m\u001b[0murlretrieve\u001b[0m\u001b[0;34m(\u001b[0m\u001b[0murl_str\u001b[0m\u001b[0;34m,\u001b[0m \u001b[0;34m\"filename.txt\"\u001b[0m\u001b[0;34m)\u001b[0m\u001b[0;34m\u001b[0m\u001b[0;34m\u001b[0m\u001b[0m\n\u001b[0m\u001b[1;32m     14\u001b[0m \u001b[0;34m\u001b[0m\u001b[0m\n\u001b[1;32m     15\u001b[0m \u001b[0mprint\u001b[0m\u001b[0;34m(\u001b[0m\u001b[0murl_str\u001b[0m\u001b[0;34m)\u001b[0m\u001b[0;34m\u001b[0m\u001b[0;34m\u001b[0m\u001b[0m\n",
            "\u001b[0;32m/usr/lib/python3.6/urllib/request.py\u001b[0m in \u001b[0;36murlretrieve\u001b[0;34m(url, filename, reporthook, data)\u001b[0m\n\u001b[1;32m    246\u001b[0m     \u001b[0murl_type\u001b[0m\u001b[0;34m,\u001b[0m \u001b[0mpath\u001b[0m \u001b[0;34m=\u001b[0m \u001b[0msplittype\u001b[0m\u001b[0;34m(\u001b[0m\u001b[0murl\u001b[0m\u001b[0;34m)\u001b[0m\u001b[0;34m\u001b[0m\u001b[0;34m\u001b[0m\u001b[0m\n\u001b[1;32m    247\u001b[0m \u001b[0;34m\u001b[0m\u001b[0m\n\u001b[0;32m--> 248\u001b[0;31m     \u001b[0;32mwith\u001b[0m \u001b[0mcontextlib\u001b[0m\u001b[0;34m.\u001b[0m\u001b[0mclosing\u001b[0m\u001b[0;34m(\u001b[0m\u001b[0murlopen\u001b[0m\u001b[0;34m(\u001b[0m\u001b[0murl\u001b[0m\u001b[0;34m,\u001b[0m \u001b[0mdata\u001b[0m\u001b[0;34m)\u001b[0m\u001b[0;34m)\u001b[0m \u001b[0;32mas\u001b[0m \u001b[0mfp\u001b[0m\u001b[0;34m:\u001b[0m\u001b[0;34m\u001b[0m\u001b[0;34m\u001b[0m\u001b[0m\n\u001b[0m\u001b[1;32m    249\u001b[0m         \u001b[0mheaders\u001b[0m \u001b[0;34m=\u001b[0m \u001b[0mfp\u001b[0m\u001b[0;34m.\u001b[0m\u001b[0minfo\u001b[0m\u001b[0;34m(\u001b[0m\u001b[0;34m)\u001b[0m\u001b[0;34m\u001b[0m\u001b[0;34m\u001b[0m\u001b[0m\n\u001b[1;32m    250\u001b[0m \u001b[0;34m\u001b[0m\u001b[0m\n",
            "\u001b[0;32m/usr/lib/python3.6/urllib/request.py\u001b[0m in \u001b[0;36murlopen\u001b[0;34m(url, data, timeout, cafile, capath, cadefault, context)\u001b[0m\n\u001b[1;32m    221\u001b[0m     \u001b[0;32melse\u001b[0m\u001b[0;34m:\u001b[0m\u001b[0;34m\u001b[0m\u001b[0;34m\u001b[0m\u001b[0m\n\u001b[1;32m    222\u001b[0m         \u001b[0mopener\u001b[0m \u001b[0;34m=\u001b[0m \u001b[0m_opener\u001b[0m\u001b[0;34m\u001b[0m\u001b[0;34m\u001b[0m\u001b[0m\n\u001b[0;32m--> 223\u001b[0;31m     \u001b[0;32mreturn\u001b[0m \u001b[0mopener\u001b[0m\u001b[0;34m.\u001b[0m\u001b[0mopen\u001b[0m\u001b[0;34m(\u001b[0m\u001b[0murl\u001b[0m\u001b[0;34m,\u001b[0m \u001b[0mdata\u001b[0m\u001b[0;34m,\u001b[0m \u001b[0mtimeout\u001b[0m\u001b[0;34m)\u001b[0m\u001b[0;34m\u001b[0m\u001b[0;34m\u001b[0m\u001b[0m\n\u001b[0m\u001b[1;32m    224\u001b[0m \u001b[0;34m\u001b[0m\u001b[0m\n\u001b[1;32m    225\u001b[0m \u001b[0;32mdef\u001b[0m \u001b[0minstall_opener\u001b[0m\u001b[0;34m(\u001b[0m\u001b[0mopener\u001b[0m\u001b[0;34m)\u001b[0m\u001b[0;34m:\u001b[0m\u001b[0;34m\u001b[0m\u001b[0;34m\u001b[0m\u001b[0m\n",
            "\u001b[0;32m/usr/lib/python3.6/urllib/request.py\u001b[0m in \u001b[0;36mopen\u001b[0;34m(self, fullurl, data, timeout)\u001b[0m\n\u001b[1;32m    530\u001b[0m         \u001b[0;32mfor\u001b[0m \u001b[0mprocessor\u001b[0m \u001b[0;32min\u001b[0m \u001b[0mself\u001b[0m\u001b[0;34m.\u001b[0m\u001b[0mprocess_response\u001b[0m\u001b[0;34m.\u001b[0m\u001b[0mget\u001b[0m\u001b[0;34m(\u001b[0m\u001b[0mprotocol\u001b[0m\u001b[0;34m,\u001b[0m \u001b[0;34m[\u001b[0m\u001b[0;34m]\u001b[0m\u001b[0;34m)\u001b[0m\u001b[0;34m:\u001b[0m\u001b[0;34m\u001b[0m\u001b[0;34m\u001b[0m\u001b[0m\n\u001b[1;32m    531\u001b[0m             \u001b[0mmeth\u001b[0m \u001b[0;34m=\u001b[0m \u001b[0mgetattr\u001b[0m\u001b[0;34m(\u001b[0m\u001b[0mprocessor\u001b[0m\u001b[0;34m,\u001b[0m \u001b[0mmeth_name\u001b[0m\u001b[0;34m)\u001b[0m\u001b[0;34m\u001b[0m\u001b[0;34m\u001b[0m\u001b[0m\n\u001b[0;32m--> 532\u001b[0;31m             \u001b[0mresponse\u001b[0m \u001b[0;34m=\u001b[0m \u001b[0mmeth\u001b[0m\u001b[0;34m(\u001b[0m\u001b[0mreq\u001b[0m\u001b[0;34m,\u001b[0m \u001b[0mresponse\u001b[0m\u001b[0;34m)\u001b[0m\u001b[0;34m\u001b[0m\u001b[0;34m\u001b[0m\u001b[0m\n\u001b[0m\u001b[1;32m    533\u001b[0m \u001b[0;34m\u001b[0m\u001b[0m\n\u001b[1;32m    534\u001b[0m         \u001b[0;32mreturn\u001b[0m \u001b[0mresponse\u001b[0m\u001b[0;34m\u001b[0m\u001b[0;34m\u001b[0m\u001b[0m\n",
            "\u001b[0;32m/usr/lib/python3.6/urllib/request.py\u001b[0m in \u001b[0;36mhttp_response\u001b[0;34m(self, request, response)\u001b[0m\n\u001b[1;32m    640\u001b[0m         \u001b[0;32mif\u001b[0m \u001b[0;32mnot\u001b[0m \u001b[0;34m(\u001b[0m\u001b[0;36m200\u001b[0m \u001b[0;34m<=\u001b[0m \u001b[0mcode\u001b[0m \u001b[0;34m<\u001b[0m \u001b[0;36m300\u001b[0m\u001b[0;34m)\u001b[0m\u001b[0;34m:\u001b[0m\u001b[0;34m\u001b[0m\u001b[0;34m\u001b[0m\u001b[0m\n\u001b[1;32m    641\u001b[0m             response = self.parent.error(\n\u001b[0;32m--> 642\u001b[0;31m                 'http', request, response, code, msg, hdrs)\n\u001b[0m\u001b[1;32m    643\u001b[0m \u001b[0;34m\u001b[0m\u001b[0m\n\u001b[1;32m    644\u001b[0m         \u001b[0;32mreturn\u001b[0m \u001b[0mresponse\u001b[0m\u001b[0;34m\u001b[0m\u001b[0;34m\u001b[0m\u001b[0m\n",
            "\u001b[0;32m/usr/lib/python3.6/urllib/request.py\u001b[0m in \u001b[0;36merror\u001b[0;34m(self, proto, *args)\u001b[0m\n\u001b[1;32m    568\u001b[0m         \u001b[0;32mif\u001b[0m \u001b[0mhttp_err\u001b[0m\u001b[0;34m:\u001b[0m\u001b[0;34m\u001b[0m\u001b[0;34m\u001b[0m\u001b[0m\n\u001b[1;32m    569\u001b[0m             \u001b[0margs\u001b[0m \u001b[0;34m=\u001b[0m \u001b[0;34m(\u001b[0m\u001b[0mdict\u001b[0m\u001b[0;34m,\u001b[0m \u001b[0;34m'default'\u001b[0m\u001b[0;34m,\u001b[0m \u001b[0;34m'http_error_default'\u001b[0m\u001b[0;34m)\u001b[0m \u001b[0;34m+\u001b[0m \u001b[0morig_args\u001b[0m\u001b[0;34m\u001b[0m\u001b[0;34m\u001b[0m\u001b[0m\n\u001b[0;32m--> 570\u001b[0;31m             \u001b[0;32mreturn\u001b[0m \u001b[0mself\u001b[0m\u001b[0;34m.\u001b[0m\u001b[0m_call_chain\u001b[0m\u001b[0;34m(\u001b[0m\u001b[0;34m*\u001b[0m\u001b[0margs\u001b[0m\u001b[0;34m)\u001b[0m\u001b[0;34m\u001b[0m\u001b[0;34m\u001b[0m\u001b[0m\n\u001b[0m\u001b[1;32m    571\u001b[0m \u001b[0;34m\u001b[0m\u001b[0m\n\u001b[1;32m    572\u001b[0m \u001b[0;31m# XXX probably also want an abstract factory that knows when it makes\u001b[0m\u001b[0;34m\u001b[0m\u001b[0;34m\u001b[0m\u001b[0;34m\u001b[0m\u001b[0m\n",
            "\u001b[0;32m/usr/lib/python3.6/urllib/request.py\u001b[0m in \u001b[0;36m_call_chain\u001b[0;34m(self, chain, kind, meth_name, *args)\u001b[0m\n\u001b[1;32m    502\u001b[0m         \u001b[0;32mfor\u001b[0m \u001b[0mhandler\u001b[0m \u001b[0;32min\u001b[0m \u001b[0mhandlers\u001b[0m\u001b[0;34m:\u001b[0m\u001b[0;34m\u001b[0m\u001b[0;34m\u001b[0m\u001b[0m\n\u001b[1;32m    503\u001b[0m             \u001b[0mfunc\u001b[0m \u001b[0;34m=\u001b[0m \u001b[0mgetattr\u001b[0m\u001b[0;34m(\u001b[0m\u001b[0mhandler\u001b[0m\u001b[0;34m,\u001b[0m \u001b[0mmeth_name\u001b[0m\u001b[0;34m)\u001b[0m\u001b[0;34m\u001b[0m\u001b[0;34m\u001b[0m\u001b[0m\n\u001b[0;32m--> 504\u001b[0;31m             \u001b[0mresult\u001b[0m \u001b[0;34m=\u001b[0m \u001b[0mfunc\u001b[0m\u001b[0;34m(\u001b[0m\u001b[0;34m*\u001b[0m\u001b[0margs\u001b[0m\u001b[0;34m)\u001b[0m\u001b[0;34m\u001b[0m\u001b[0;34m\u001b[0m\u001b[0m\n\u001b[0m\u001b[1;32m    505\u001b[0m             \u001b[0;32mif\u001b[0m \u001b[0mresult\u001b[0m \u001b[0;32mis\u001b[0m \u001b[0;32mnot\u001b[0m \u001b[0;32mNone\u001b[0m\u001b[0;34m:\u001b[0m\u001b[0;34m\u001b[0m\u001b[0;34m\u001b[0m\u001b[0m\n\u001b[1;32m    506\u001b[0m                 \u001b[0;32mreturn\u001b[0m \u001b[0mresult\u001b[0m\u001b[0;34m\u001b[0m\u001b[0;34m\u001b[0m\u001b[0m\n",
            "\u001b[0;32m/usr/lib/python3.6/urllib/request.py\u001b[0m in \u001b[0;36mhttp_error_default\u001b[0;34m(self, req, fp, code, msg, hdrs)\u001b[0m\n\u001b[1;32m    648\u001b[0m \u001b[0;32mclass\u001b[0m \u001b[0mHTTPDefaultErrorHandler\u001b[0m\u001b[0;34m(\u001b[0m\u001b[0mBaseHandler\u001b[0m\u001b[0;34m)\u001b[0m\u001b[0;34m:\u001b[0m\u001b[0;34m\u001b[0m\u001b[0;34m\u001b[0m\u001b[0m\n\u001b[1;32m    649\u001b[0m     \u001b[0;32mdef\u001b[0m \u001b[0mhttp_error_default\u001b[0m\u001b[0;34m(\u001b[0m\u001b[0mself\u001b[0m\u001b[0;34m,\u001b[0m \u001b[0mreq\u001b[0m\u001b[0;34m,\u001b[0m \u001b[0mfp\u001b[0m\u001b[0;34m,\u001b[0m \u001b[0mcode\u001b[0m\u001b[0;34m,\u001b[0m \u001b[0mmsg\u001b[0m\u001b[0;34m,\u001b[0m \u001b[0mhdrs\u001b[0m\u001b[0;34m)\u001b[0m\u001b[0;34m:\u001b[0m\u001b[0;34m\u001b[0m\u001b[0;34m\u001b[0m\u001b[0m\n\u001b[0;32m--> 650\u001b[0;31m         \u001b[0;32mraise\u001b[0m \u001b[0mHTTPError\u001b[0m\u001b[0;34m(\u001b[0m\u001b[0mreq\u001b[0m\u001b[0;34m.\u001b[0m\u001b[0mfull_url\u001b[0m\u001b[0;34m,\u001b[0m \u001b[0mcode\u001b[0m\u001b[0;34m,\u001b[0m \u001b[0mmsg\u001b[0m\u001b[0;34m,\u001b[0m \u001b[0mhdrs\u001b[0m\u001b[0;34m,\u001b[0m \u001b[0mfp\u001b[0m\u001b[0;34m)\u001b[0m\u001b[0;34m\u001b[0m\u001b[0;34m\u001b[0m\u001b[0m\n\u001b[0m\u001b[1;32m    651\u001b[0m \u001b[0;34m\u001b[0m\u001b[0m\n\u001b[1;32m    652\u001b[0m \u001b[0;32mclass\u001b[0m \u001b[0mHTTPRedirectHandler\u001b[0m\u001b[0;34m(\u001b[0m\u001b[0mBaseHandler\u001b[0m\u001b[0;34m)\u001b[0m\u001b[0;34m:\u001b[0m\u001b[0;34m\u001b[0m\u001b[0;34m\u001b[0m\u001b[0m\n",
            "\u001b[0;31mHTTPError\u001b[0m: HTTP Error 404: Not Found"
          ]
        }
      ]
    },
    {
      "cell_type": "code",
      "metadata": {
        "colab": {
          "base_uri": "https://localhost:8080/",
          "height": 130
        },
        "id": "_sk22y5rOyjj",
        "outputId": "d23a6873-c6ff-450d-b923-fe5700ad6a57"
      },
      "source": [
        "\n",
        "#Malawi\n",
        "'67586_198209_201606.txt','67587_195808_198301.txt','67693_194807_201511.txt','67791_201002_201005.txt'\n",
        "\n",
        "#Mozambique 67964\n",
        "67201_201207_201712.txt \n",
        "67205_201208_201712.txt \n",
        "67215_194901_201712.txt \n",
        "67217_194901_201712.txt \n",
        "67221_201207_201712.txt  \n",
        "67223_201207_201712.txt \n",
        "67229_201711_201712.txt  \n",
        "67231_201205_201712.txt \n",
        "67237_197001_201712.txt \n",
        "67241_194901_201712.txt \n",
        "67260_201308_201611.txt  \n",
        "67261_194901_201712.txt \n",
        "67271_201302_201312.txt \n",
        "67273_201405_201711.txt \n",
        "67283_194901_201712.txt   \n",
        "67291_201305_201307.txt   \n",
        "67295_200810_201712.txt  \n",
        "67297_194901_201712.txt    \n",
        "67305_201706_201712.txt\n",
        "67309_201706_201712.txt\n",
        "67315_201304_201412.txt \n",
        "67323_194901_201712.txt \n",
        "67327_201204_201712.txt                            \n",
        "67331_201307_201712.txt \n",
        "67335_200703_201712.txt     \n",
        "67339_201604_201712.txt                            \n",
        "67341_194901_201712.txt                            \n",
        "67346_201306_201712.txt                            \n",
        "\n",
        "#Namibia\n",
        "68006_201101_201710.txt \n",
        "68014_196901_201710.txt                            \n",
        "68015_201303_201712.txt \n",
        "68018_201101_201712.txt \n",
        "68098_201101_201712.txt                            \n",
        "68104_198910_200006.txt                            \n",
        "68106_201005_201712.txt  \n",
        "68109_201502_201505.txt  \n",
        "68110_195001_201712.txt                            \n",
        "68112_196602_201712.txt                            \n",
        "\n",
        "#Zambia\n",
        "67581_201510_201711.txt \n",
        "67571_201609_201610.txt \n",
        "67599_201608_201612.txt                            \n",
        "67633_194904_201708.txt                            \n",
        "67641_201701_201706.txt \n",
        "67663_195712_201602.txt\n",
        "67665_201512_201701.txt \n",
        "67666_201510_201510.txt \n",
        "\n",
        "#Zimbabwe\n",
        "67761_201104_201110.txt\n",
        "67774_194901_199806.txt \n",
        "67775_197301_201412.txt\n",
        "67964_194901_201709.txt                            \n",
        "67975_198910_201409.txt \n",
        "67977_201501_201711.txt\n",
        "67983_194901_201707.txt \n",
        "67991_198910_200008.txt\n",
        "\n",
        "for i in Madagascar\n",
        "  urllib.request.urlretrieve(\"https://opendata.dwd.de/climate_environment/CDC/observations_global/CLIMAT/monthly/qc/precipitation_total/historical/i\",\n",
        "  dfx = pd.read_csv(\"test.txt\",delimiter=';')\n",
        "  dfx.to_csv('Demox.csv', index=False)\n",
        "  dfx.set_index('Jahr', inplace=True)\n",
        "\n",
        "\n",
        "dfx = dfx.loc['1980':'2015']\n",
        "  country_feature1= general_df[general_df['Country']==country][feature1]\n",
        "  df_feature1=pd.DataFrame(country_feature1)  \n",
        "\n",
        "  country_feature2= general_df[general_df['Country']==country][feature2]\n",
        "  df_feature2 =pd.DataFrame(country_feature2) \n",
        "\n",
        "  merged = df_feature1.merge(df_feature2, left_index=True, right_index=True)\n",
        "\n",
        "  merged.plot(x=feature1, y=feature2, kind = 'scatter')\n",
        " \n",
        "  plt.title(country)\n",
        "  \n",
        "  merged.corr()\n",
        "  \n",
        "#creating scatter plots to sow the relationship between food production per capita and food availability \n",
        "#in country 8 countries in Southern Africa  \n",
        "plot_country('Zimbabwe','Production Quantity per capita (kg/cap/year)','Food Availibility per capita (kg/cap/year)')\n",
        "plot_country('Zambia','Production Quantity per capita (kg/cap/year)','Food Availibility per capita (kg/cap/year)')\n",
        "plot_country('Swaziland','Production Quantity per capita (kg/cap/year)','Food Availibility per capita (kg/cap/year)')\n",
        "plot_country('Namibia','Production Quantity per capita (kg/cap/year)','Food Availibility per capita (kg/cap/year)')\n",
        "plot_country('Mozambique','Production Quantity per capita (kg/cap/year)','Food Availibility per capita (kg/cap/year)')\n",
        "plot_country('Malawi','Production Quantity per capita (kg/cap/year)','Food Availibility per capita (kg/cap/year)')\n",
        "plot_country('Madagascar','Production Quantity per capita (kg/cap/year)','Food Availibility per capita (kg/cap/year)')\n",
        "plot_country('Lesotho','Production Quantity per capita (kg/cap/year)','Food Availibility per capita (kg/cap/year)')"
      ],
      "execution_count": 53,
      "outputs": [
        {
          "output_type": "error",
          "ename": "SyntaxError",
          "evalue": "ignored",
          "traceback": [
            "\u001b[0;36m  File \u001b[0;32m\"<ipython-input-53-6b7cf18b38ce>\"\u001b[0;36m, line \u001b[0;32m24\u001b[0m\n\u001b[0;31m    67201_201207_201712.txt\u001b[0m\n\u001b[0m                          ^\u001b[0m\n\u001b[0;31mSyntaxError\u001b[0m\u001b[0;31m:\u001b[0m invalid syntax\n"
          ]
        }
      ]
    },
    {
      "cell_type": "markdown",
      "metadata": {
        "id": "0INsmtQdr6na"
      },
      "source": [
        "#Sets global base URL as per https://datahelpdesk.worldbank.org/knowledgebase/articles/902061-climate-data-api\n",
        "\n",
        "base_url = \"http://climatedataapi.worldbank.org/climateweb/rest/v1/country\"\n",
        "\n",
        "#Function that generates querry URL based on user requirements\n",
        "def set_querry_url(measure_type,var_type,start_period,end_period,country_code,file_extension):\n",
        "    querry_url = base_url+\"/\"+measure_type+\"/\"+var_type+\"/\"+start_period+\"/\"+end_period+\"/\"+country_code+\".\"+file_extension\n",
        "    short_name = country_code+\"_\"+start_period+\"_\"+end_period+\"_\"+measure_type+\"_\"+var_type+\".\"+file_extension\n",
        "    response = requests.get(querry_url)\n",
        "    print(\"API Status Code:\" + str(response.status_code))\n",
        "    print(querry_url)\n",
        "    return file_extension, short_name, response\n",
        "\n",
        "#File downloader based on file format chosen by user during querry setup in set_querry_url   \n",
        "def download_formatted_data(querry_response):\n",
        "    if querry_response[0] == \"json\":\n",
        "        json_data = querry_response[2].json()      \n",
        "        with open(querry_response[1]+\".json\", 'w') as json_file:\n",
        "            json.dump(json_data, json_file, indent=4)\n",
        "    else: \n",
        "        querry_response[0] == \"csv\"\n",
        "        csv_data = querry_response[2].text\n",
        "        csv_data_SIO = StringIO(csv_data)\n",
        "        with open(querry_response[1]+\".csv\", 'w') as csv_file:\n",
        "            for line in csv_data_SIO:\n",
        "                csv_file.write(line)\n",
        "    return True\n",
        "\n",
        "if __name__ == '__main__':\n",
        "    querry_response = set_querry_url(\"annualavg\",\"pr\",\"1980\",\"2015\",\"ZWE\",\"csv\")\n",
        "    download_formatted_data(querry_response)"
      ]
    }
  ]
}