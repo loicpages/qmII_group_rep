{
  "nbformat": 4,
  "nbformat_minor": 0,
  "metadata": {
    "colab": {
      "name": "LMICs correlations, scatter plots, and linear regressions",
      "provenance": [],
      "authorship_tag": "ABX9TyN5FLoBJRiWhfI4El3CEAkO",
      "include_colab_link": true
    },
    "kernelspec": {
      "name": "python3",
      "display_name": "Python 3"
    }
  },
  "cells": [
    {
      "cell_type": "markdown",
      "metadata": {
        "id": "view-in-github",
        "colab_type": "text"
      },
      "source": [
        "<a href=\"https://colab.research.google.com/github/loicpages/qmII_group_rep/blob/main/LMICs_correlations%2C_scatter_plots%2C_and_linear_regressions.ipynb\" target=\"_parent\"><img src=\"https://colab.research.google.com/assets/colab-badge.svg\" alt=\"Open In Colab\"/></a>"
      ]
    },
    {
      "cell_type": "code",
      "metadata": {
        "id": "1tP9qtVB3VX_"
      },
      "source": [
        "import pylab\n",
        "import pandas as pd\n",
        "import numpy as np\n",
        "from google.colab import files\n",
        "import io\n",
        "import matplotlib.pyplot as plt\n",
        "from functools import reduce\n",
        "%matplotlib inline\n",
        "plt.style.use('ggplot')"
      ],
      "execution_count": 3,
      "outputs": []
    },
    {
      "cell_type": "code",
      "metadata": {
        "id": "j9MdRjpQ3biQ",
        "colab": {
          "base_uri": "https://localhost:8080/",
          "height": 581
        },
        "outputId": "65614468-c945-4018-f1a5-97b9ab845e92"
      },
      "source": [
        "data_path = '/content/df_final_use.csv'\n",
        "general_df = pd.read_csv(data_path, encoding ='latin-1', sep=';')\n",
        "general_df.head()"
      ],
      "execution_count": 52,
      "outputs": [
        {
          "output_type": "execute_result",
          "data": {
            "text/html": [
              "<div>\n",
              "<style scoped>\n",
              "    .dataframe tbody tr th:only-of-type {\n",
              "        vertical-align: middle;\n",
              "    }\n",
              "\n",
              "    .dataframe tbody tr th {\n",
              "        vertical-align: top;\n",
              "    }\n",
              "\n",
              "    .dataframe thead th {\n",
              "        text-align: right;\n",
              "    }\n",
              "</style>\n",
              "<table border=\"1\" class=\"dataframe\">\n",
              "  <thead>\n",
              "    <tr style=\"text-align: right;\">\n",
              "      <th></th>\n",
              "      <th>Country</th>\n",
              "      <th>Year</th>\n",
              "      <th>Food Availibility per capita (kg/cap/year)</th>\n",
              "      <th>Production Quantity (Grains &amp; Ce.+ Root Crops)(1000MT)</th>\n",
              "      <th>Import Quantity (Grains &amp; Ce.)(1000MT)</th>\n",
              "      <th>Export Quantity (Grains &amp; Ce.)(1000MT)</th>\n",
              "      <th>Import Quantity (Root Crops)(1000MT)</th>\n",
              "      <th>Export Quantity (Root Crops)(1000MT)</th>\n",
              "      <th>Population (Million)</th>\n",
              "      <th>Non-Cereal Food Aid (Grain Equiv. 1000MT)</th>\n",
              "      <th>Cereal Food Aid (Grain Equiv. 1000MT)</th>\n",
              "      <th>Imports (all)(1000MT)</th>\n",
              "      <th>Exports (all)(1000MT)</th>\n",
              "      <th>Production Quantity per capita (kg/cap/year)</th>\n",
              "      <th>Imports (all) per capita (kg/cap/year)</th>\n",
              "      <th>Exports (all) per capita (kg/cap/year)</th>\n",
              "      <th>Production + net ex-imports (kg/cap/year)</th>\n",
              "      <th>Total Food Aid</th>\n",
              "      <th>Total Food Aid per capita (kg/cap/year)</th>\n",
              "      <th>Region</th>\n",
              "    </tr>\n",
              "  </thead>\n",
              "  <tbody>\n",
              "    <tr>\n",
              "      <th>0</th>\n",
              "      <td>Afghanistan</td>\n",
              "      <td>1980.0</td>\n",
              "      <td>NaN</td>\n",
              "      <td>3933.805</td>\n",
              "      <td>17.10</td>\n",
              "      <td>0.0</td>\n",
              "      <td>0.0</td>\n",
              "      <td>0.0</td>\n",
              "      <td>14186.000</td>\n",
              "      <td>NaN</td>\n",
              "      <td>NaN</td>\n",
              "      <td>17.10</td>\n",
              "      <td>0.0</td>\n",
              "      <td>277.301917</td>\n",
              "      <td>1.205414</td>\n",
              "      <td>0.0</td>\n",
              "      <td>278.507331</td>\n",
              "      <td>NaN</td>\n",
              "      <td>NaN</td>\n",
              "      <td>Central and East Asia</td>\n",
              "    </tr>\n",
              "    <tr>\n",
              "      <th>1</th>\n",
              "      <td>Afghanistan</td>\n",
              "      <td>1981.0</td>\n",
              "      <td>NaN</td>\n",
              "      <td>3763.130</td>\n",
              "      <td>96.50</td>\n",
              "      <td>0.0</td>\n",
              "      <td>0.0</td>\n",
              "      <td>0.0</td>\n",
              "      <td>13.984</td>\n",
              "      <td>NaN</td>\n",
              "      <td>NaN</td>\n",
              "      <td>96.50</td>\n",
              "      <td>0.0</td>\n",
              "      <td>269.102546</td>\n",
              "      <td>6.900744</td>\n",
              "      <td>0.0</td>\n",
              "      <td>276.003289</td>\n",
              "      <td>NaN</td>\n",
              "      <td>NaN</td>\n",
              "      <td>Central and East Asia</td>\n",
              "    </tr>\n",
              "    <tr>\n",
              "      <th>2</th>\n",
              "      <td>Afghanistan</td>\n",
              "      <td>1982.0</td>\n",
              "      <td>NaN</td>\n",
              "      <td>3602.788</td>\n",
              "      <td>74.90</td>\n",
              "      <td>0.0</td>\n",
              "      <td>0.0</td>\n",
              "      <td>0.0</td>\n",
              "      <td>13673.000</td>\n",
              "      <td>NaN</td>\n",
              "      <td>NaN</td>\n",
              "      <td>74.90</td>\n",
              "      <td>0.0</td>\n",
              "      <td>263.496526</td>\n",
              "      <td>5.477949</td>\n",
              "      <td>0.0</td>\n",
              "      <td>268.974475</td>\n",
              "      <td>NaN</td>\n",
              "      <td>NaN</td>\n",
              "      <td>Central and East Asia</td>\n",
              "    </tr>\n",
              "    <tr>\n",
              "      <th>3</th>\n",
              "      <td>Afghanistan</td>\n",
              "      <td>1983.0</td>\n",
              "      <td>NaN</td>\n",
              "      <td>3474.450</td>\n",
              "      <td>79503.00</td>\n",
              "      <td>0.0</td>\n",
              "      <td>0.0</td>\n",
              "      <td>0.0</td>\n",
              "      <td>13.300</td>\n",
              "      <td>NaN</td>\n",
              "      <td>NaN</td>\n",
              "      <td>79503.00</td>\n",
              "      <td>0.0</td>\n",
              "      <td>261.236842</td>\n",
              "      <td>5.977669</td>\n",
              "      <td>0.0</td>\n",
              "      <td>267.214511</td>\n",
              "      <td>NaN</td>\n",
              "      <td>NaN</td>\n",
              "      <td>Central and East Asia</td>\n",
              "    </tr>\n",
              "    <tr>\n",
              "      <th>4</th>\n",
              "      <td>Afghanistan</td>\n",
              "      <td>1984.0</td>\n",
              "      <td>NaN</td>\n",
              "      <td>3306.778</td>\n",
              "      <td>21.15</td>\n",
              "      <td>0.0</td>\n",
              "      <td>0.0</td>\n",
              "      <td>0.0</td>\n",
              "      <td>12932.000</td>\n",
              "      <td>NaN</td>\n",
              "      <td>NaN</td>\n",
              "      <td>21.15</td>\n",
              "      <td>0.0</td>\n",
              "      <td>255.705073</td>\n",
              "      <td>1.635478</td>\n",
              "      <td>0.0</td>\n",
              "      <td>257.340551</td>\n",
              "      <td>NaN</td>\n",
              "      <td>NaN</td>\n",
              "      <td>Central and East Asia</td>\n",
              "    </tr>\n",
              "  </tbody>\n",
              "</table>\n",
              "</div>"
            ],
            "text/plain": [
              "       Country  ...                 Region\n",
              "0  Afghanistan  ...  Central and East Asia\n",
              "1  Afghanistan  ...  Central and East Asia\n",
              "2  Afghanistan  ...  Central and East Asia\n",
              "3  Afghanistan  ...  Central and East Asia\n",
              "4  Afghanistan  ...  Central and East Asia\n",
              "\n",
              "[5 rows x 20 columns]"
            ]
          },
          "metadata": {
            "tags": []
          },
          "execution_count": 52
        }
      ]
    },
    {
      "cell_type": "code",
      "metadata": {
        "id": "OS5ZTsMn9_sm"
      },
      "source": [
        "#creating a sperate data frames for each mean LMICs values \n",
        "AllLDC_food_availablity = general_df.groupby('Year')['Food Availibility per capita (kg/cap/year)'].mean()\n",
        "foodavailability_df=pd.DataFrame(AllLDC_food_availablity)\n",
        "\n",
        "AllLDC_production = general_df.groupby('Year')['Production Quantity per capita (kg/cap/year)'].mean()\n",
        "production_df=pd.DataFrame(AllLDC_production)\n",
        "\n",
        "AllLDC_food_aid = general_df.groupby('Year')['Total Food Aid per capita (kg/cap/year)'].mean()\n",
        "food_aid_df= pd.DataFrame(AllLDC_food_aid)\n",
        "\n",
        "AllLDC_production = general_df.groupby('Year')['Imports (all) per capita (kg/cap/year)'].mean()\n",
        "import_df=pd.DataFrame(AllLDC_production)"
      ],
      "execution_count": 9,
      "outputs": []
    },
    {
      "cell_type": "code",
      "metadata": {
        "id": "rlBUb32lBL4P",
        "colab": {
          "base_uri": "https://localhost:8080/",
          "height": 252
        },
        "outputId": "09fbcc5b-3e81-44bc-d0b2-2b51d3ec753e"
      },
      "source": [
        "#creating a new data frames with all the mean LMICs values \n",
        "fa_prod_df = foodavailability_df.merge(production_df, left_index=True, right_index=True)\n",
        "fa_prod_imports_df = fa_prod_df.merge(import_df, left_index=True, right_index=True)\n",
        "mean_df = fa_prod_imports_df.merge(food_aid_df, left_index=True, right_index=True)\n",
        "mean_df.head()"
      ],
      "execution_count": 51,
      "outputs": [
        {
          "output_type": "execute_result",
          "data": {
            "text/html": [
              "<div>\n",
              "<style scoped>\n",
              "    .dataframe tbody tr th:only-of-type {\n",
              "        vertical-align: middle;\n",
              "    }\n",
              "\n",
              "    .dataframe tbody tr th {\n",
              "        vertical-align: top;\n",
              "    }\n",
              "\n",
              "    .dataframe thead th {\n",
              "        text-align: right;\n",
              "    }\n",
              "</style>\n",
              "<table border=\"1\" class=\"dataframe\">\n",
              "  <thead>\n",
              "    <tr style=\"text-align: right;\">\n",
              "      <th></th>\n",
              "      <th>Food Availibility per capita (kg/cap/year)</th>\n",
              "      <th>Production Quantity per capita (kg/cap/year)</th>\n",
              "      <th>Imports (all) per capita (kg/cap/year)</th>\n",
              "      <th>Total Food Aid per capita (kg/cap/year)</th>\n",
              "    </tr>\n",
              "    <tr>\n",
              "      <th>Year</th>\n",
              "      <th></th>\n",
              "      <th></th>\n",
              "      <th></th>\n",
              "      <th></th>\n",
              "    </tr>\n",
              "  </thead>\n",
              "  <tbody>\n",
              "    <tr>\n",
              "      <th>1980.0</th>\n",
              "      <td>164.141936</td>\n",
              "      <td>167.963148</td>\n",
              "      <td>41.088459</td>\n",
              "      <td>NaN</td>\n",
              "    </tr>\n",
              "    <tr>\n",
              "      <th>1981.0</th>\n",
              "      <td>163.884964</td>\n",
              "      <td>171.332945</td>\n",
              "      <td>40.959084</td>\n",
              "      <td>NaN</td>\n",
              "    </tr>\n",
              "    <tr>\n",
              "      <th>1982.0</th>\n",
              "      <td>162.192904</td>\n",
              "      <td>163.644709</td>\n",
              "      <td>41.366786</td>\n",
              "      <td>NaN</td>\n",
              "    </tr>\n",
              "    <tr>\n",
              "      <th>1983.0</th>\n",
              "      <td>162.371607</td>\n",
              "      <td>154.680343</td>\n",
              "      <td>42.776068</td>\n",
              "      <td>NaN</td>\n",
              "    </tr>\n",
              "    <tr>\n",
              "      <th>1984.0</th>\n",
              "      <td>162.031741</td>\n",
              "      <td>155.348799</td>\n",
              "      <td>45.194706</td>\n",
              "      <td>NaN</td>\n",
              "    </tr>\n",
              "  </tbody>\n",
              "</table>\n",
              "</div>"
            ],
            "text/plain": [
              "        Food Availibility per capita (kg/cap/year)  ...  Total Food Aid per capita (kg/cap/year)\n",
              "Year                                                ...                                         \n",
              "1980.0                                  164.141936  ...                                      NaN\n",
              "1981.0                                  163.884964  ...                                      NaN\n",
              "1982.0                                  162.192904  ...                                      NaN\n",
              "1983.0                                  162.371607  ...                                      NaN\n",
              "1984.0                                  162.031741  ...                                      NaN\n",
              "\n",
              "[5 rows x 4 columns]"
            ]
          },
          "metadata": {
            "tags": []
          },
          "execution_count": 51
        }
      ]
    },
    {
      "cell_type": "code",
      "metadata": {
        "colab": {
          "base_uri": "https://localhost:8080/",
          "height": 258
        },
        "id": "YN-xv5oEgF11",
        "outputId": "f5174862-e401-497d-b4d9-e9a0d5269cde"
      },
      "source": [
        "mean_df.corr(method='pearson')\n",
        "#Evaluating the linear relationship between our variables\n",
        "#higher linear relationship between imports per capita and food availability per capita (higher corelation coeficient)\n",
        "#lower linear relationship between production quantity per capita and food availability per capita"
      ],
      "execution_count": 11,
      "outputs": [
        {
          "output_type": "execute_result",
          "data": {
            "text/html": [
              "<div>\n",
              "<style scoped>\n",
              "    .dataframe tbody tr th:only-of-type {\n",
              "        vertical-align: middle;\n",
              "    }\n",
              "\n",
              "    .dataframe tbody tr th {\n",
              "        vertical-align: top;\n",
              "    }\n",
              "\n",
              "    .dataframe thead th {\n",
              "        text-align: right;\n",
              "    }\n",
              "</style>\n",
              "<table border=\"1\" class=\"dataframe\">\n",
              "  <thead>\n",
              "    <tr style=\"text-align: right;\">\n",
              "      <th></th>\n",
              "      <th>Food Availibility per capita (kg/cap/year)</th>\n",
              "      <th>Production Quantity per capita (kg/cap/year)</th>\n",
              "      <th>Imports (all) per capita (kg/cap/year)</th>\n",
              "      <th>Total Food Aid per capita (kg/cap/year)</th>\n",
              "    </tr>\n",
              "  </thead>\n",
              "  <tbody>\n",
              "    <tr>\n",
              "      <th>Food Availibility per capita (kg/cap/year)</th>\n",
              "      <td>1.000000</td>\n",
              "      <td>0.467165</td>\n",
              "      <td>0.871008</td>\n",
              "      <td>-0.866042</td>\n",
              "    </tr>\n",
              "    <tr>\n",
              "      <th>Production Quantity per capita (kg/cap/year)</th>\n",
              "      <td>0.467165</td>\n",
              "      <td>1.000000</td>\n",
              "      <td>0.387210</td>\n",
              "      <td>-0.692703</td>\n",
              "    </tr>\n",
              "    <tr>\n",
              "      <th>Imports (all) per capita (kg/cap/year)</th>\n",
              "      <td>0.871008</td>\n",
              "      <td>0.387210</td>\n",
              "      <td>1.000000</td>\n",
              "      <td>-0.717076</td>\n",
              "    </tr>\n",
              "    <tr>\n",
              "      <th>Total Food Aid per capita (kg/cap/year)</th>\n",
              "      <td>-0.866042</td>\n",
              "      <td>-0.692703</td>\n",
              "      <td>-0.717076</td>\n",
              "      <td>1.000000</td>\n",
              "    </tr>\n",
              "  </tbody>\n",
              "</table>\n",
              "</div>"
            ],
            "text/plain": [
              "                                              Food Availibility per capita (kg/cap/year)  ...  Total Food Aid per capita (kg/cap/year)\n",
              "Food Availibility per capita (kg/cap/year)                                      1.000000  ...                                -0.866042\n",
              "Production Quantity per capita (kg/cap/year)                                    0.467165  ...                                -0.692703\n",
              "Imports (all) per capita (kg/cap/year)                                          0.871008  ...                                -0.717076\n",
              "Total Food Aid per capita (kg/cap/year)                                        -0.866042  ...                                 1.000000\n",
              "\n",
              "[4 rows x 4 columns]"
            ]
          },
          "metadata": {
            "tags": []
          },
          "execution_count": 11
        }
      ]
    },
    {
      "cell_type": "code",
      "metadata": {
        "colab": {
          "base_uri": "https://localhost:8080/",
          "height": 258
        },
        "id": "mHrdhIFmK_D8",
        "outputId": "fd1fc40c-c141-45af-811a-f34e1a49babc"
      },
      "source": [
        "mean_df.corr(method='spearman')\n",
        "#Evaluates the monotonic relationship between our variables\n",
        "#higher monotonic relationship between imports per capita and food availability per capita \n",
        "#lower monotonic relationship between production quantity per capita and food availability per capita "
      ],
      "execution_count": 12,
      "outputs": [
        {
          "output_type": "execute_result",
          "data": {
            "text/html": [
              "<div>\n",
              "<style scoped>\n",
              "    .dataframe tbody tr th:only-of-type {\n",
              "        vertical-align: middle;\n",
              "    }\n",
              "\n",
              "    .dataframe tbody tr th {\n",
              "        vertical-align: top;\n",
              "    }\n",
              "\n",
              "    .dataframe thead th {\n",
              "        text-align: right;\n",
              "    }\n",
              "</style>\n",
              "<table border=\"1\" class=\"dataframe\">\n",
              "  <thead>\n",
              "    <tr style=\"text-align: right;\">\n",
              "      <th></th>\n",
              "      <th>Food Availibility per capita (kg/cap/year)</th>\n",
              "      <th>Production Quantity per capita (kg/cap/year)</th>\n",
              "      <th>Imports (all) per capita (kg/cap/year)</th>\n",
              "      <th>Total Food Aid per capita (kg/cap/year)</th>\n",
              "    </tr>\n",
              "  </thead>\n",
              "  <tbody>\n",
              "    <tr>\n",
              "      <th>Food Availibility per capita (kg/cap/year)</th>\n",
              "      <td>1.000000</td>\n",
              "      <td>0.433766</td>\n",
              "      <td>0.888035</td>\n",
              "      <td>-0.866154</td>\n",
              "    </tr>\n",
              "    <tr>\n",
              "      <th>Production Quantity per capita (kg/cap/year)</th>\n",
              "      <td>0.433766</td>\n",
              "      <td>1.000000</td>\n",
              "      <td>0.303476</td>\n",
              "      <td>-0.658462</td>\n",
              "    </tr>\n",
              "    <tr>\n",
              "      <th>Imports (all) per capita (kg/cap/year)</th>\n",
              "      <td>0.888035</td>\n",
              "      <td>0.303476</td>\n",
              "      <td>1.000000</td>\n",
              "      <td>-0.739231</td>\n",
              "    </tr>\n",
              "    <tr>\n",
              "      <th>Total Food Aid per capita (kg/cap/year)</th>\n",
              "      <td>-0.866154</td>\n",
              "      <td>-0.658462</td>\n",
              "      <td>-0.739231</td>\n",
              "      <td>1.000000</td>\n",
              "    </tr>\n",
              "  </tbody>\n",
              "</table>\n",
              "</div>"
            ],
            "text/plain": [
              "                                              Food Availibility per capita (kg/cap/year)  ...  Total Food Aid per capita (kg/cap/year)\n",
              "Food Availibility per capita (kg/cap/year)                                      1.000000  ...                                -0.866154\n",
              "Production Quantity per capita (kg/cap/year)                                    0.433766  ...                                -0.658462\n",
              "Imports (all) per capita (kg/cap/year)                                          0.888035  ...                                -0.739231\n",
              "Total Food Aid per capita (kg/cap/year)                                        -0.866154  ...                                 1.000000\n",
              "\n",
              "[4 rows x 4 columns]"
            ]
          },
          "metadata": {
            "tags": []
          },
          "execution_count": 12
        }
      ]
    },
    {
      "cell_type": "code",
      "metadata": {
        "colab": {
          "base_uri": "https://localhost:8080/",
          "height": 350
        },
        "id": "Knz1mLdT5Dqt",
        "outputId": "39531eaf-c5a0-494e-afb7-62f1534aa069"
      },
      "source": [
        "#relationship between Food Imports per capita and Food Availability per capita \n",
        "#positive association\n",
        "mean_df.plot(x='Imports (all) per capita (kg/cap/year)', y='Food Availibility per capita (kg/cap/year)', kind='scatter')\n",
        "plt.xlabel('Imports (all) per capita (kg/cap/year)')\n",
        "plt.ylabel('Food Availibility per capita (kg/cap/year)')\n",
        "plt.title('relationship between food availability and food imports')\n",
        "\n",
        "#fitting a linear regression line over the scatter plot\n",
        "#m=0.976, b=123.65\n",
        "mean_df2 = mean_df.drop([2013.0], axis=0)\n",
        "x=mean_df2['Imports (all) per capita (kg/cap/year)']\n",
        "y=mean_df2['Food Availibility per capita (kg/cap/year)']\n",
        "x= x.to_numpy()\n",
        "y= y.to_numpy()\n",
        "m, b = np.polyfit(x, y, 1)\n",
        "plt.plot(x, m*x+b, c='red')\n",
        "print(m)\n",
        "print(b)\n",
        "\n",
        "#calculating the R square value\n",
        "#rS2=0.76 \n",
        "temp= np.corrcoef(x,y)\n",
        "temp[0,1]**2\n",
        "rS2=temp[0,1]**2\n",
        "print(rS2)"
      ],
      "execution_count": 53,
      "outputs": [
        {
          "output_type": "stream",
          "text": [
            "0.9758715644775267\n",
            "123.65241084966269\n",
            "0.7586555110226073\n"
          ],
          "name": "stdout"
        },
        {
          "output_type": "display_data",
          "data": {
            "image/png": "[encoded data removed]",
            "text/plain": [
              "<Figure size 432x288 with 1 Axes>"
            ]
          },
          "metadata": {
            "tags": []
          }
        }
      ]
    },
    {
      "cell_type": "code",
      "metadata": {
        "colab": {
          "base_uri": "https://localhost:8080/",
          "height": 350
        },
        "id": "w5ZOPzQeC_PH",
        "outputId": "dd52b429-1124-410c-b94c-b7ce5660ac24"
      },
      "source": [
        "#relationship between Food production per capita and Food Availability per capita \n",
        "#positive association\n",
        "mean_df.plot(x='Production Quantity per capita (kg/cap/year)', y='Food Availibility per capita (kg/cap/year)', kind='scatter')\n",
        "plt.xlabel('Production Quantity per capita (kg/cap/year)') \n",
        "plt.ylabel('Food Availibility per capita (kg/cap/year)')\n",
        "plt.title('Relationship between Food Availability and Food Production')\n",
        "\n",
        "#fitting a linear regression line over the scatter plot\n",
        "#m=0.288, b=125.424\n",
        "x=mean_df['Production Quantity per capita (kg/cap/year)']\n",
        "y=mean_df['Food Availibility per capita (kg/cap/year)']\n",
        "x= x.to_numpy()\n",
        "y= y.to_numpy()\n",
        "m, b = np.polyfit(x, y, 1)\n",
        "plt.plot(x, m*x+b, c='red')\n",
        "print(m)\n",
        "print(b)\n",
        "\n",
        "#calculating the R square value\n",
        "#rS2=0.22 \n",
        "temp= np.corrcoef(x,y)\n",
        "temp[0,1]**2\n",
        "rS2=temp[0,1]**2\n",
        "print(rS2)"
      ],
      "execution_count": 54,
      "outputs": [
        {
          "output_type": "stream",
          "text": [
            "0.2879967280258504\n",
            "125.42363409399438\n",
            "0.2182429560348628\n"
          ],
          "name": "stdout"
        },
        {
          "output_type": "display_data",
          "data": {
            "image/png": "[encoded data removed]",
            "text/plain": [
              "<Figure size 432x288 with 1 Axes>"
            ]
          },
          "metadata": {
            "tags": []
          }
        }
      ]
    },
    {
      "cell_type": "code",
      "metadata": {
        "colab": {
          "base_uri": "https://localhost:8080/",
          "height": 350
        },
        "id": "8BaMXR6ThSMZ",
        "outputId": "cb0b9223-ad2e-4a4e-bd3d-23d88b5f7e97"
      },
      "source": [
        "#relationship between Food aid per capita and Food Availability per capita \n",
        "#negative association\n",
        "mean_df.plot(x='Total Food Aid per capita (kg/cap/year)', y='Food Availibility per capita (kg/cap/year)', kind='scatter')\n",
        "plt.xlabel('food aid')\n",
        "plt.ylabel('food availability')\n",
        "plt.title('relationship between food availability and food aid')\n",
        "\n",
        "#fitting a linear regression line over the scatter plot\n",
        "#m=-1.6, b=193.123\n",
        "mean_df3 = mean_df.drop([2013.0,1980.0,1981.0,1982.0,1983.0,1984.0,1985.0,1986.0,1987.0], axis=0)\n",
        "x=mean_df3['Total Food Aid per capita (kg/cap/year)']\n",
        "y=mean_df3['Food Availibility per capita (kg/cap/year)']\n",
        "x= x.to_numpy()\n",
        "y= y.to_numpy()\n",
        "m, b = np.polyfit(x, y, 1)\n",
        "plt.plot(x, m*x+b, c='red')\n",
        "print(m)\n",
        "print(b)\n",
        "\n",
        "#calculating the R square value\n",
        "#rS2=0.75 \n",
        "temp= np.corrcoef(x,y)\n",
        "temp[0,1]**2\n",
        "rS2=temp[0,1]**2\n",
        "print(rS2)"
      ],
      "execution_count": 55,
      "outputs": [
        {
          "output_type": "stream",
          "text": [
            "-1.5985246993998448\n",
            "193.12345473573055\n",
            "0.7500286120495896\n"
          ],
          "name": "stdout"
        },
        {
          "output_type": "display_data",
          "data": {
            "image/png": "[encoded data removed]",
            "text/plain": [
              "<Figure size 432x288 with 1 Axes>"
            ]
          },
          "metadata": {
            "tags": []
          }
        }
      ]
    }
  ]
}