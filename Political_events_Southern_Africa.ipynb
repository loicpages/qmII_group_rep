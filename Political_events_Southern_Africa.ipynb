{
  "nbformat": 4,
  "nbformat_minor": 0,
  "metadata": {
    "colab": {
      "name": "Political events Southern Africa ",
      "provenance": [],
      "collapsed_sections": [],
      "authorship_tag": "ABX9TyMjyUe6taj5+sgid1kRKyJw",
      "include_colab_link": true
    },
    "kernelspec": {
      "name": "python3",
      "display_name": "Python 3"
    }
  },
  "cells": [
    {
      "cell_type": "markdown",
      "metadata": {
        "id": "view-in-github",
        "colab_type": "text"
      },
      "source": [
        "<a href=\"https://colab.research.google.com/github/loicpages/qmII_group_rep/blob/main/Political_events_Southern_Africa.ipynb\" target=\"_parent\"><img src=\"https://colab.research.google.com/assets/colab-badge.svg\" alt=\"Open In Colab\"/></a>"
      ]
    },
    {
      "cell_type": "code",
      "metadata": {
        "id": "FnwHryU5lRlQ"
      },
      "source": [
        "import pylab\n",
        "import pandas as pd\n",
        "import numpy as np\n",
        "from google.colab import files\n",
        "import io\n",
        "import matplotlib.pyplot as plt\n",
        "from functools import reduce\n",
        "import pandas as pd\n",
        "import altair as alt\n",
        "%matplotlib inline\n",
        "plt.style.use('ggplot')"
      ],
      "execution_count": 48,
      "outputs": []
    },
    {
      "cell_type": "code",
      "metadata": {
        "id": "WJtylB2HlaS-"
      },
      "source": [
        "data_path = '/content/df_final_use.csv'\n",
        "general_df = pd.read_csv(data_path, encoding ='latin-1')"
      ],
      "execution_count": 49,
      "outputs": []
    },
    {
      "cell_type": "markdown",
      "metadata": {
        "id": "gFk8OCrttoe9"
      },
      "source": [
        "New dataframe which includes all the countries from Southern Africa and shows the evolution of food availability for each country. "
      ]
    },
    {
      "cell_type": "code",
      "metadata": {
        "id": "C2eT27BQl0iN"
      },
      "source": [
        "southern_africa_df= general_df[[\"Country\",\"Year\",\"Food Availibility per capita (kg/cap/year)\",\"Region\"]]\n",
        "southern_africa_df= southern_africa_df[southern_africa_df['Region']=='Southern Africa']\n",
        "final_southern_africa_df= southern_africa_df[['Country','Food Availibility per capita (kg/cap/year)']]"
      ],
      "execution_count": 50,
      "outputs": []
    },
    {
      "cell_type": "markdown",
      "metadata": {
        "id": "ZHNSdDIuv2t0"
      },
      "source": [
        "Dataframes for each country from this region.\n"
      ]
    },
    {
      "cell_type": "code",
      "metadata": {
        "id": "wUCxNxt2rLAR"
      },
      "source": [
        "lesotho_df=final_southern_africa_df[final_southern_africa_df['Country']=='Lesotho']\n",
        "madagascar_df=final_southern_africa_df[final_southern_africa_df['Country']=='Madagascar']\n",
        "malawi_df=final_southern_africa_df[final_southern_africa_df['Country']=='Malawi']\n",
        "mozambique_df=final_southern_africa_df[final_southern_africa_df['Country']=='Mozambique']\n",
        "namibia_df=final_southern_africa_df[final_southern_africa_df['Country']=='Namibia']\n",
        "swaziland_df=final_southern_africa_df[final_southern_africa_df['Country']=='Swaziland']\n",
        "zambia_df=final_southern_africa_df[final_southern_africa_df['Country']=='Zambia']\n",
        "zimbabwe_df=final_southern_africa_df[final_southern_africa_df['Country']=='Zimbabwe']"
      ],
      "execution_count": 51,
      "outputs": []
    },
    {
      "cell_type": "markdown",
      "metadata": {
        "id": "jAewhK06pQd0"
      },
      "source": [
        "New dataframes which contain all the political events by year and food aivalibility for each country. "
      ]
    },
    {
      "cell_type": "code",
      "metadata": {
        "id": "bK__dR_Tz5Tl"
      },
      "source": [
        "pol_events_lesotho=pd.DataFrame(['1980','1981','1982','1983','1984','1985','1986 : Overthrow of the authoritarian regime of Leabua Jonathan - start of military regime for 7 years duration','1987','1988','1989','1990','1991','1992','1993 : Multi-party elections, first free elections in 23 years','1994','1995','1996','1997','1998 : Legislative elections leading to political tensions and civil violence (more than 1000 deaths)','1999','2000','2001','2002 : New type of legislative elections, end of political tensions','2003','2004','2005','2006','2007','2008','2009','2010','2011','2012','2013'])\n",
        "pol_events_lesotho.columns=['Political events']\n",
        "pol_events_lesotho.index= [1326,1327,1328,1329,1330,1331,1332,1333,1334,1335,1336,1337,1338,1339,1340,1341,1342,1343,1344,1345,1346,1347,1348,1349,1350,1351,1352,1353,1354,1355,1356,1357,1358,1359]\n",
        "lesotho_final = pd.concat([lesotho_df, pol_events_lesotho], axis=1)"
      ],
      "execution_count": 52,
      "outputs": []
    },
    {
      "cell_type": "code",
      "metadata": {
        "id": "hAg7KtJ5HygC"
      },
      "source": [
        "pol_events_Madagascar=pd.DataFrame(['1980','1981','1982','1983','1984 : Kung fu riots, military intervention','1985','1986','1987','1988','1989','1990','1991 : popular protest','1992','1993 : Election of Albert Zafy as president of madagascar','1994','1995','1996','1997 : Start of economic growth','1998','1999','2000','2001','2002','2003','2004','2005','2006','2007','2008','2009 : Overthrow of Malagasy President Marc Ravalomanana','2010','2011','2012','2013'])\n",
        "pol_events_Madagascar.columns=['Political events']\n",
        "pol_events_Madagascar.index= [1394,1395,1396,1397,1398,1399,1400,1401,1402,1403,1404,1405,1406,1407,1408,1409,1410,1411,1412,1413,1414,1415,1416,1417,1418,1419,1420,1421,1422,1423,1424,1425,1426,1427]\n",
        "Madagascar_final = pd.concat([madagascar_df, pol_events_Madagascar], axis=1)"
      ],
      "execution_count": 53,
      "outputs": []
    },
    {
      "cell_type": "code",
      "metadata": {
        "id": "xeyPdhgQh9rb"
      },
      "source": [
        "pol_events_Malawi=pd.DataFrame(['1980 : Authoritarian regime','1981 : Authoritarian regime','1982 : Authoritarian regime','1983 : Authoritarian regime','1984 : Authoritarian regime','1985 : Authoritarian regime','1986 : Authoritarian regime','1987 : Authoritarian regime','1988 : Authoritarian regime','1989 : Authoritarian regime','1990 : Authoritarian regime','1991','1992','1993','1994 : Election of Bakili Muluzi as President of Malawi, end of a 30-year one-party regime, strat of a democratic regime','1995','1996','1997','1998','1999','2000','2001','2002','2003','2004','2005','2006','2007','2008','2009','2010','2011','2012','2013'])\n",
        "pol_events_Malawi.columns=['Political events']\n",
        "pol_events_Malawi.index= [1428,1429,1430,1431,1432,1433,1434,1435,1436,1437,1438,1439,1440,1441,1442,1443,1444,1445,1446,1447,1448,1449,1450,1451,1452,1453,1454,1455,1456,1457,1458,1459,1460,1461]\n",
        "Malawi_final = pd.concat([malawi_df, pol_events_Malawi], axis=1)"
      ],
      "execution_count": 54,
      "outputs": []
    },
    {
      "cell_type": "code",
      "metadata": {
        "id": "jjit8Odhiaib"
      },
      "source": [
        "pol_events_Mozambique=pd.DataFrame(['1980 : Civil war','1981 : Civil war','1982 : Civil war','1983 : Civil war','1984 : Civil war','1985 : Civil war','1986 : Civil war','1987 : Civil war','1988 : Civil war','1989 : Civil war','1990 : Civil war','1991 : Civil war','1992 : End of the civil war','1993','1994 : first democratic election - election of Joachim Chissano','1995','1996','1997','1998','1999','2000','2001','2002','2003','2004','2005 : Armando Guebuza is elected president','2006','2007','2008','2009','2010','2011','2012','2013'])\n",
        "pol_events_Mozambique.columns=['Political events']\n",
        "pol_events_Mozambique.index= [1632,1633,1634,1635,1636,1637,1638,1639,1640,1641,1642,1643,1644,1645,1646,1647,1648,1649,1650,1651,1652,1653,1654,1655,1656,1657,1658,1659,1660,1661,1662,1663,1664,1665]\n",
        "Mozambique_final = pd.concat([mozambique_df, pol_events_Mozambique], axis=1)"
      ],
      "execution_count": 55,
      "outputs": []
    },
    {
      "cell_type": "code",
      "metadata": {
        "id": "qEbYebPpi1SW"
      },
      "source": [
        "pol_events_Namibia=pd.DataFrame(['1980 : First government of South West Africa/Namibia','1981','1982','1983 : The National Assembly is dissolved','1984','1985 : Intermediate government set up by south africa','1986','1987','1988','1989','1990','1991 : Namibia Declaration of Independence','1992','1993','1994','1995','1996','1997','1998','1999','2000','2001','2002','2003','2004','2005 : Hifikepunye Pohamba is elected president','2006','2007','2008','2009','2010','2011','2012','2013'])\n",
        "pol_events_Namibia.columns=['Political events']\n",
        "pol_events_Namibia.index= [1666,1667,1668,1669,1670,1671,1672,1673,1674,1675,1676,1677,1678,1679,1680,1681,1682,1683,1684,1685,1686,1687,1688,1689,1690,1691,1692,1693,1694,1695,1696,1697,1698,1699]\n",
        "Namibia_final = pd.concat([namibia_df, pol_events_Namibia], axis=1)"
      ],
      "execution_count": 56,
      "outputs": []
    },
    {
      "cell_type": "code",
      "metadata": {
        "id": "DEjO6m3fjUnt"
      },
      "source": [
        "pol_events_Swaziland=pd.DataFrame(['1980','1981','1982 : Death of King Sobhuza II - end of one of the world longest sovereign regimes ','1983','1984','1985','1986 : Mswati III becomes absolute monarch','1987','1988','1989','1990','1991','1992','1993','1994','1995','1996','1997','1998','1999','2000','2001','2002','2003','2004','2005 : adoption of a first constitution by the swazis','2006 : entry into force of the constitution','2007','2008','2009','2010','2011','2012','2013'])\n",
        "pol_events_Swaziland.columns=['Political events']\n",
        "pol_events_Swaziland.index= [2176,2177,2178,2179,2180,2181,2182,2183,2184,2185,2186,2187,2188,2189,2190,2191,2192,2193,2194,2195,2196,2197,2198,2199,2200,2201,2202,2203,2204,2205,2206,2207,2208,2209]\n",
        "Swaziland_final = pd.concat([swaziland_df, pol_events_Swaziland], axis=1)"
      ],
      "execution_count": 57,
      "outputs": []
    },
    {
      "cell_type": "code",
      "metadata": {
        "id": "Hnqqt1_sj5sC"
      },
      "source": [
        "pol_events_Zambia=pd.DataFrame(['1980 : Challenges against Kenneth Kaunda regime (single party)','1981 : Challenges against Kenneth Kaunda regime (single party)','1982 : Challenges against Kenneth Kaunda regime (single party)','1983 : Challenges against Kenneth Kaunda regime (single party)','1984 : Challenges against Kenneth Kaunda regime (single party)','1985 : Challenges against Kenneth Kaunda regime (single party)','1986 : Challenges against Kenneth Kaunda regime (single party)','1987 : Challenges against Kenneth Kaunda regime (single party)','1988 : Challenges against Kenneth Kaunda regime (single party)','1989 : Challenges against Kenneth Kaunda regime (single party)','1990 : Challenges against Kenneth Kaunda regime (single party)','1991 : First multi-party elections, election of Frederick Chiluba as president ','1992 : beginning of a liberal policy','1993 : Liberal policy','1994 : Liberal policy','1995 : Liberal policy','1996 : Liberal policy','1997 : Liberal policy','1998 : Liberal policy','1999 : Liberal policy','2000 : Liberal policy','2001 : Liberal policy','2002 : Famine','2003 : Liberal policy','2004 : Liberal policy','2005 : Liberal policy','2006 : Liberal policy','2007 : Liberal policy','2008 : Liberal policy','2009 : Liberal policy','2010 : Liberal policy','2011 : Liberal policy','2012 : Liberal policy','2013 : Liberal policy'])\n",
        "pol_events_Zambia.columns=['Political events']\n",
        "pol_events_Zambia.index= [2516,2517,2518,2519,2520,2521,2522,2523,2524,2525,2526,2527,2528,2529,2530,2531,2532,2533,2534,2535,2536,2537,2538,2539,2540,2541,2542,2543,2544,2545,2546,2547,2548,2549]\n",
        "Zambia_final = pd.concat([zambia_df, pol_events_Zambia], axis=1)"
      ],
      "execution_count": 58,
      "outputs": []
    },
    {
      "cell_type": "code",
      "metadata": {
        "id": "rvS6lusCkTYx"
      },
      "source": [
        "pol_events_Zimbabwe=pd.DataFrame(['1980 : Proclamation of independence after several years of civil war','1981','1982','1983','1984','1985','1986','1987 : Robert Mugabe becomes president - authoritarian regime','1988','1989','1990','1991','1992','1993','1994','1995','1996','1997','1998','1999','2000','2001','2002','2003','2004','2005','2006','2007','2008 : legislative and presidential elections - the democratic movement becomes a majority in the assembly','2009 : inflationary explosion - economic chaos','2010','2011','2012','2013'])\n",
        "pol_events_Zimbabwe.columns=['Political events']\n",
        "pol_events_Zimbabwe.index= [2550,2551,2552,2553,2554,2555,2556,2557,2558,2559,2560,2561,2562,2563,2564,2565,2566,2567,2568,2569,2570,2571,2572,2573,2574,2575,2576,2577,2578,2579,2580,2581,2582,2583]\n",
        "Zimbabwe_final = pd.concat([zimbabwe_df, pol_events_Zimbabwe], axis=1)"
      ],
      "execution_count": 59,
      "outputs": []
    },
    {
      "cell_type": "markdown",
      "metadata": {
        "id": "AvBHA_snrKn-"
      },
      "source": [
        "Plotting the evolution of food availibility over year  on  a graph which shows all the political events for each country."
      ]
    },
    {
      "cell_type": "code",
      "metadata": {
        "id": "b_xXtDoCqpIW",
        "colab": {
          "base_uri": "https://localhost:8080/",
          "height": 368
        },
        "outputId": "cd5ad375-c888-4e5c-93e5-1413a156a6e8"
      },
      "source": [
        "Lesotho = [\n",
        "      {\"year\": \"1980\", \"Food availibility per capita (kg/cap/year)\": 197.996871},\n",
        "      {\"year\": \"1981\", \"Food availibility per capita (kg/cap/year)\": 202.423694},\n",
        "      {\"year\": \"1982\", \"Food availibility per capita (kg/cap/year)\": 193.041706},\n",
        "      {\"year\": \"1983\", \"Food availibility per capita (kg/cap/year)\": 201.475150},\n",
        "      {\"year\": \"1984\", \"Food availibility per capita (kg/cap/year)\": 197.231876},\n",
        "      {\"year\": \"1985\", \"Food availibility per capita (kg/cap/year)\": 210.156059},\n",
        "      {\"year\": \"1986\", \"Food availibility per capita (kg/cap/year)\": 208.260873},\n",
        "      {\"year\": \"1987\", \"Food availibility per capita (kg/cap/year)\": 202.994931},\n",
        "      {\"year\": \"1988\", \"Food availibility per capita (kg/cap/year)\": 201.991740},\n",
        "      {\"year\": \"1989\", \"Food availibility per capita (kg/cap/year)\": 205.993724},\n",
        "      {\"year\": \"1990\", \"Food availibility per capita (kg/cap/year)\": 190.520875},\n",
        "      {\"year\": \"1991\", \"Food availibility per capita (kg/cap/year)\": 190.503500},\n",
        "      {\"year\": \"1992\", \"Food availibility per capita (kg/cap/year)\": 193.248624},\n",
        "      {\"year\": \"1993\", \"Food availibility per capita (kg/cap/year)\": 197.062710},\n",
        "      {\"year\": \"1994\", \"Food availibility per capita (kg/cap/year)\": 200.253190},\n",
        "      {\"year\": \"1995\", \"Food availibility per capita (kg/cap/year)\": 198.524028},\n",
        "      {\"year\": \"1996\", \"Food availibility per capita (kg/cap/year)\": 199.640781},\n",
        "      {\"year\": \"1997\", \"Food availibility per capita (kg/cap/year)\": 170.009046},\n",
        "      {\"year\": \"1998\", \"Food availibility per capita (kg/cap/year)\": 182.064144},\n",
        "      {\"year\": \"1999\", \"Food availibility per capita (kg/cap/year)\": 174.599540},\n",
        "      {\"year\": \"2000\", \"Food availibility per capita (kg/cap/year)\": 190.779771},\n",
        "      {\"year\": \"2001\", \"Food availibility per capita (kg/cap/year)\": 176.674074},\n",
        "      {\"year\": \"2002\", \"Food availibility per capita (kg/cap/year)\": 205.391258},\n",
        "      {\"year\": \"2003\", \"Food availibility per capita (kg/cap/year)\": 193.019098},\n",
        "      {\"year\": \"2004\", \"Food availibility per capita (kg/cap/year)\": 174.964110},\n",
        "      {\"year\": \"2005\", \"Food availibility per capita (kg/cap/year)\": 172.891474},\n",
        "      {\"year\": \"2006\", \"Food availibility per capita (kg/cap/year)\": 146.482077},\n",
        "      {\"year\": \"2007\", \"Food availibility per capita (kg/cap/year)\": 142.319852},\n",
        "      {\"year\": \"2008\", \"Food availibility per capita (kg/cap/year)\": 139.198946},\n",
        "      {\"year\": \"2009\", \"Food availibility per capita (kg/cap/year)\": 144.691856},\n",
        "      {\"year\": \"2010\", \"Food availibility per capita (kg/cap/year)\": 146.429676},\n",
        "      {\"year\": \"2011\", \"Food availibility per capita (kg/cap/year)\": 147.272747},\n",
        "      {\"year\": \"2012\", \"Food availibility per capita (kg/cap/year)\": 146.758787},\n",
        "      {\"year\": \"2013\", \"Food availibility per capita (kg/cap/year)\": 146.207426},\n",
        "    ]\n",
        "\n",
        "Events = [{\"start\": \"1986\",\"end\": \"1993\",\"event\": \"Military regime for 7 years duration\"},{\"start\": \"1993\",\"end\": \"1994\",\"event\": \"First free elections in 23 years\"},{\"start\":\"1998\",\"end\":\"1999\",\"event\":\"Political tensions and civil violence (more than 1000 deaths)\"},{\"start\":\"2002\",\"end\":\"2003\",\"event\":\"End of political tensions\"}]\n",
        "\n",
        "\n",
        "Lesotho = alt.pd.DataFrame(Lesotho)\n",
        "Events = alt.pd.DataFrame(Events)\n",
        "\n",
        "\n",
        "line = alt.Chart(Lesotho).mark_line(color='#333').encode(\n",
        "    alt.X('year:T', axis=alt.Axis(format='%Y')),\n",
        "    y='Food availibility per capita (kg/cap/year)'\n",
        ").properties(\n",
        "    width=500,\n",
        "    height=300\n",
        ")\n",
        "\n",
        "point = line.mark_point(color='#333')\n",
        "\n",
        "rect = alt.Chart(Events).mark_rect().encode(\n",
        "    x='start:T',\n",
        "    x2='end:T',\n",
        "    color='event:N'\n",
        ")\n",
        "\n",
        "rect + line + point"
      ],
      "execution_count": 60,
      "outputs": [
        {
          "output_type": "execute_result",
          "data": {
            "text/plain": [
              "alt.LayerChart(...)"
            ],
            "text/html": [
              "\n",
              "<div id=\"altair-viz-c22f035126374fe8872a4471ec91841d\"></div>\n",
              "<script type=\"text/javascript\">\n",
              "  (function(spec, embedOpt){\n",
              "    let outputDiv = document.currentScript.previousElementSibling;\n",
              "    if (outputDiv.id !== \"altair-viz-c22f035126374fe8872a4471ec91841d\") {\n",
              "      outputDiv = document.getElementById(\"altair-viz-c22f035126374fe8872a4471ec91841d\");\n",
              "    }\n",
              "    const paths = {\n",
              "      \"vega\": \"https://cdn.jsdelivr.net/npm//vega@5?noext\",\n",
              "      \"vega-lib\": \"https://cdn.jsdelivr.net/npm//vega-lib?noext\",\n",
              "      \"vega-lite\": \"https://cdn.jsdelivr.net/npm//vega-lite@4.8.1?noext\",\n",
              "      \"vega-embed\": \"https://cdn.jsdelivr.net/npm//vega-embed@6?noext\",\n",
              "    };\n",
              "\n",
              "    function loadScript(lib) {\n",
              "      return new Promise(function(resolve, reject) {\n",
              "        var s = document.createElement('script');\n",
              "        s.src = paths[lib];\n",
              "        s.async = true;\n",
              "        s.onload = () => resolve(paths[lib]);\n",
              "        s.onerror = () => reject(`Error loading script: ${paths[lib]}`);\n",
              "        document.getElementsByTagName(\"head\")[0].appendChild(s);\n",
              "      });\n",
              "    }\n",
              "\n",
              "    function showError(err) {\n",
              "      outputDiv.innerHTML = `<div class=\"error\" style=\"color:red;\">${err}</div>`;\n",
              "      throw err;\n",
              "    }\n",
              "\n",
              "    function displayChart(vegaEmbed) {\n",
              "      vegaEmbed(outputDiv, spec, embedOpt)\n",
              "        .catch(err => showError(`Javascript Error: ${err.message}<br>This usually means there's a typo in your chart specification. See the javascript console for the full traceback.`));\n",
              "    }\n",
              "\n",
              "    if(typeof define === \"function\" && define.amd) {\n",
              "      requirejs.config({paths});\n",
              "      require([\"vega-embed\"], displayChart, err => showError(`Error loading script: ${err.message}`));\n",
              "    } else if (typeof vegaEmbed === \"function\") {\n",
              "      displayChart(vegaEmbed);\n",
              "    } else {\n",
              "      loadScript(\"vega\")\n",
              "        .then(() => loadScript(\"vega-lite\"))\n",
              "        .then(() => loadScript(\"vega-embed\"))\n",
              "        .catch(showError)\n",
              "        .then(() => displayChart(vegaEmbed));\n",
              "    }\n",
              "  })({\"config\": {\"view\": {\"continuousWidth\": 400, \"continuousHeight\": 300}}, \"layer\": [{\"data\": {\"name\": \"data-6efddd4a3267c197a78966b16d2c1acb\"}, \"mark\": \"rect\", \"encoding\": {\"color\": {\"type\": \"nominal\", \"field\": \"event\"}, \"x\": {\"type\": \"temporal\", \"field\": \"start\"}, \"x2\": {\"field\": \"end\"}}}, {\"data\": {\"name\": \"data-74da169c12c0f410b95a1f97ed06cb90\"}, \"mark\": {\"type\": \"line\", \"color\": \"#333\"}, \"encoding\": {\"x\": {\"type\": \"temporal\", \"axis\": {\"format\": \"%Y\"}, \"field\": \"year\"}, \"y\": {\"type\": \"quantitative\", \"field\": \"Food availibility per capita (kg/cap/year)\"}}, \"height\": 300, \"width\": 500}, {\"data\": {\"name\": \"data-74da169c12c0f410b95a1f97ed06cb90\"}, \"mark\": {\"type\": \"point\", \"color\": \"#333\"}, \"encoding\": {\"x\": {\"type\": \"temporal\", \"axis\": {\"format\": \"%Y\"}, \"field\": \"year\"}, \"y\": {\"type\": \"quantitative\", \"field\": \"Food availibility per capita (kg/cap/year)\"}}, \"height\": 300, \"width\": 500}], \"$schema\": \"https://vega.github.io/schema/vega-lite/v4.8.1.json\", \"datasets\": {\"data-6efddd4a3267c197a78966b16d2c1acb\": [{\"start\": \"1986\", \"end\": \"1993\", \"event\": \"Military regime for 7 years duration\"}, {\"start\": \"1993\", \"end\": \"1994\", \"event\": \"First free elections in 23 years\"}, {\"start\": \"1998\", \"end\": \"1999\", \"event\": \"Political tensions and civil violence (more than 1000 deaths)\"}, {\"start\": \"2002\", \"end\": \"2003\", \"event\": \"End of political tensions\"}], \"data-74da169c12c0f410b95a1f97ed06cb90\": [{\"year\": \"1980\", \"Food availibility per capita (kg/cap/year)\": 197.996871}, {\"year\": \"1981\", \"Food availibility per capita (kg/cap/year)\": 202.423694}, {\"year\": \"1982\", \"Food availibility per capita (kg/cap/year)\": 193.041706}, {\"year\": \"1983\", \"Food availibility per capita (kg/cap/year)\": 201.47515}, {\"year\": \"1984\", \"Food availibility per capita (kg/cap/year)\": 197.231876}, {\"year\": \"1985\", \"Food availibility per capita (kg/cap/year)\": 210.156059}, {\"year\": \"1986\", \"Food availibility per capita (kg/cap/year)\": 208.260873}, {\"year\": \"1987\", \"Food availibility per capita (kg/cap/year)\": 202.994931}, {\"year\": \"1988\", \"Food availibility per capita (kg/cap/year)\": 201.99174}, {\"year\": \"1989\", \"Food availibility per capita (kg/cap/year)\": 205.993724}, {\"year\": \"1990\", \"Food availibility per capita (kg/cap/year)\": 190.520875}, {\"year\": \"1991\", \"Food availibility per capita (kg/cap/year)\": 190.5035}, {\"year\": \"1992\", \"Food availibility per capita (kg/cap/year)\": 193.248624}, {\"year\": \"1993\", \"Food availibility per capita (kg/cap/year)\": 197.06271}, {\"year\": \"1994\", \"Food availibility per capita (kg/cap/year)\": 200.25319}, {\"year\": \"1995\", \"Food availibility per capita (kg/cap/year)\": 198.524028}, {\"year\": \"1996\", \"Food availibility per capita (kg/cap/year)\": 199.640781}, {\"year\": \"1997\", \"Food availibility per capita (kg/cap/year)\": 170.009046}, {\"year\": \"1998\", \"Food availibility per capita (kg/cap/year)\": 182.064144}, {\"year\": \"1999\", \"Food availibility per capita (kg/cap/year)\": 174.59954}, {\"year\": \"2000\", \"Food availibility per capita (kg/cap/year)\": 190.779771}, {\"year\": \"2001\", \"Food availibility per capita (kg/cap/year)\": 176.674074}, {\"year\": \"2002\", \"Food availibility per capita (kg/cap/year)\": 205.391258}, {\"year\": \"2003\", \"Food availibility per capita (kg/cap/year)\": 193.019098}, {\"year\": \"2004\", \"Food availibility per capita (kg/cap/year)\": 174.96411}, {\"year\": \"2005\", \"Food availibility per capita (kg/cap/year)\": 172.891474}, {\"year\": \"2006\", \"Food availibility per capita (kg/cap/year)\": 146.482077}, {\"year\": \"2007\", \"Food availibility per capita (kg/cap/year)\": 142.319852}, {\"year\": \"2008\", \"Food availibility per capita (kg/cap/year)\": 139.198946}, {\"year\": \"2009\", \"Food availibility per capita (kg/cap/year)\": 144.691856}, {\"year\": \"2010\", \"Food availibility per capita (kg/cap/year)\": 146.429676}, {\"year\": \"2011\", \"Food availibility per capita (kg/cap/year)\": 147.272747}, {\"year\": \"2012\", \"Food availibility per capita (kg/cap/year)\": 146.758787}, {\"year\": \"2013\", \"Food availibility per capita (kg/cap/year)\": 146.207426}]}}, {\"mode\": \"vega-lite\"});\n",
              "</script>"
            ]
          },
          "metadata": {
            "tags": []
          },
          "execution_count": 60
        }
      ]
    },
    {
      "cell_type": "code",
      "metadata": {
        "id": "-uGvhsy1x2Aa",
        "colab": {
          "base_uri": "https://localhost:8080/",
          "height": 368
        },
        "outputId": "56372bc1-bd6e-4bb6-b9c0-a1c9672d500b"
      },
      "source": [
        "Madagascar = [\n",
        "      {\"year\": \"1980\", \"Food availibility per capita (kg/cap/year)\": 184.226755},\n",
        "      {\"year\": \"1981\", \"Food availibility per capita (kg/cap/year)\": 187.151250},\n",
        "      {\"year\": \"1982\", \"Food availibility per capita (kg/cap/year)\": 171.273137},\n",
        "      {\"year\": \"1983\", \"Food availibility per capita (kg/cap/year)\": 188.991616},\n",
        "      {\"year\": \"1984\", \"Food availibility per capita (kg/cap/year)\": 188.308895},\n",
        "      {\"year\": \"1985\", \"Food availibility per capita (kg/cap/year)\": 188.084513},\n",
        "      {\"year\": \"1986\", \"Food availibility per capita (kg/cap/year)\": 188.377744},\n",
        "      {\"year\": \"1987\", \"Food availibility per capita (kg/cap/year)\": 180.141340},\n",
        "      {\"year\": \"1988\", \"Food availibility per capita (kg/cap/year)\": 170.412200},\n",
        "      {\"year\": \"1989\", \"Food availibility per capita (kg/cap/year)\": 171.191407},\n",
        "      {\"year\": \"1990\", \"Food availibility per capita (kg/cap/year)\": 201.503271},\n",
        "      {\"year\": \"1991\", \"Food availibility per capita (kg/cap/year)\": 190.692285},\n",
        "      {\"year\": \"1992\", \"Food availibility per capita (kg/cap/year)\": 190.611546},\n",
        "      {\"year\": \"1993\", \"Food availibility per capita (kg/cap/year)\": 190.223108},\n",
        "      {\"year\": \"1994\", \"Food availibility per capita (kg/cap/year)\": 189.467723},\n",
        "      {\"year\": \"1995\", \"Food availibility per capita (kg/cap/year)\": 184.402471},\n",
        "      {\"year\": \"1996\", \"Food availibility per capita (kg/cap/year)\": 180.683333},\n",
        "      {\"year\": \"1997\", \"Food availibility per capita (kg/cap/year)\": 181.007763},\n",
        "      {\"year\": \"1998\", \"Food availibility per capita (kg/cap/year)\": 164.449290},\n",
        "      {\"year\": \"1999\", \"Food availibility per capita (kg/cap/year)\": 172.377551},\n",
        "      {\"year\": \"2000\", \"Food availibility per capita (kg/cap/year)\": 173.907210},\n",
        "      {\"year\": \"2001\", \"Food availibility per capita (kg/cap/year)\": 171.888012},\n",
        "      {\"year\": \"2002\", \"Food availibility per capita (kg/cap/year)\": 166.287884},\n",
        "      {\"year\": \"2003\", \"Food availibility per capita (kg/cap/year)\": 170.584228},\n",
        "      {\"year\": \"2004\", \"Food availibility per capita (kg/cap/year)\": 171.460093},\n",
        "      {\"year\": \"2005\", \"Food availibility per capita (kg/cap/year)\": 182.273141},\n",
        "      {\"year\": \"2006\", \"Food availibility per capita (kg/cap/year)\": 183.080942},\n",
        "      {\"year\": \"2007\", \"Food availibility per capita (kg/cap/year)\": 186.022569},\n",
        "      {\"year\": \"2008\", \"Food availibility per capita (kg/cap/year)\": 190.517047},\n",
        "      {\"year\": \"2009\", \"Food availibility per capita (kg/cap/year)\": 189.695677},\n",
        "      {\"year\": \"2010\", \"Food availibility per capita (kg/cap/year)\": 186.797089},\n",
        "      {\"year\": \"2011\", \"Food availibility per capita (kg/cap/year)\": 195.505390},\n",
        "      {\"year\": \"2012\", \"Food availibility per capita (kg/cap/year)\": 189.859699},\n",
        "      {\"year\": \"2013\", \"Food availibility per capita (kg/cap/year)\": 180.880179},\n",
        "    ]\n",
        "\n",
        "Events = [{\"start\": \"1984\",\"end\": \"1985\",\"event\": \"Kung fu riots, military intervention\"},{\"start\": \"1991\",\"end\": \"1992\",\"event\": \"Popular protest\"},{\"start\":\"1993\",\"end\":\"1994\",\"event\":\"Election of Albert Zafy as president of madagascar\"},{\"start\":\"2009\",\"end\":\"2010\",\"event\":\"Overthrow of Malagasy President Marc Ravalomanana\"},{\"start\":\"1997\",\"end\":\"2001\",\"event\":\"Economic growth\"}]\n",
        "\n",
        "\n",
        "Madagascar = alt.pd.DataFrame(Madagascar)\n",
        "Events = alt.pd.DataFrame(Events)\n",
        "\n",
        "\n",
        "line = alt.Chart(Madagascar).mark_line(color='#333').encode(\n",
        "    alt.X('year:T', axis=alt.Axis(format='%Y')),\n",
        "    y='Food availibility per capita (kg/cap/year)'\n",
        ").properties(\n",
        "    width=500,\n",
        "    height=300\n",
        ")\n",
        "\n",
        "point = line.mark_point(color='#333')\n",
        "\n",
        "rect = alt.Chart(Events).mark_rect().encode(\n",
        "    x='start:T',\n",
        "    x2='end:T',\n",
        "    color='event:N'\n",
        ")\n",
        "\n",
        "rect + line + point"
      ],
      "execution_count": 61,
      "outputs": [
        {
          "output_type": "execute_result",
          "data": {
            "text/plain": [
              "alt.LayerChart(...)"
            ],
            "text/html": [
              "\n",
              "<div id=\"altair-viz-a5e3e668ffe844379d68a5cd5fc8369c\"></div>\n",
              "<script type=\"text/javascript\">\n",
              "  (function(spec, embedOpt){\n",
              "    let outputDiv = document.currentScript.previousElementSibling;\n",
              "    if (outputDiv.id !== \"altair-viz-a5e3e668ffe844379d68a5cd5fc8369c\") {\n",
              "      outputDiv = document.getElementById(\"altair-viz-a5e3e668ffe844379d68a5cd5fc8369c\");\n",
              "    }\n",
              "    const paths = {\n",
              "      \"vega\": \"https://cdn.jsdelivr.net/npm//vega@5?noext\",\n",
              "      \"vega-lib\": \"https://cdn.jsdelivr.net/npm//vega-lib?noext\",\n",
              "      \"vega-lite\": \"https://cdn.jsdelivr.net/npm//vega-lite@4.8.1?noext\",\n",
              "      \"vega-embed\": \"https://cdn.jsdelivr.net/npm//vega-embed@6?noext\",\n",
              "    };\n",
              "\n",
              "    function loadScript(lib) {\n",
              "      return new Promise(function(resolve, reject) {\n",
              "        var s = document.createElement('script');\n",
              "        s.src = paths[lib];\n",
              "        s.async = true;\n",
              "        s.onload = () => resolve(paths[lib]);\n",
              "        s.onerror = () => reject(`Error loading script: ${paths[lib]}`);\n",
              "        document.getElementsByTagName(\"head\")[0].appendChild(s);\n",
              "      });\n",
              "    }\n",
              "\n",
              "    function showError(err) {\n",
              "      outputDiv.innerHTML = `<div class=\"error\" style=\"color:red;\">${err}</div>`;\n",
              "      throw err;\n",
              "    }\n",
              "\n",
              "    function displayChart(vegaEmbed) {\n",
              "      vegaEmbed(outputDiv, spec, embedOpt)\n",
              "        .catch(err => showError(`Javascript Error: ${err.message}<br>This usually means there's a typo in your chart specification. See the javascript console for the full traceback.`));\n",
              "    }\n",
              "\n",
              "    if(typeof define === \"function\" && define.amd) {\n",
              "      requirejs.config({paths});\n",
              "      require([\"vega-embed\"], displayChart, err => showError(`Error loading script: ${err.message}`));\n",
              "    } else if (typeof vegaEmbed === \"function\") {\n",
              "      displayChart(vegaEmbed);\n",
              "    } else {\n",
              "      loadScript(\"vega\")\n",
              "        .then(() => loadScript(\"vega-lite\"))\n",
              "        .then(() => loadScript(\"vega-embed\"))\n",
              "        .catch(showError)\n",
              "        .then(() => displayChart(vegaEmbed));\n",
              "    }\n",
              "  })({\"config\": {\"view\": {\"continuousWidth\": 400, \"continuousHeight\": 300}}, \"layer\": [{\"data\": {\"name\": \"data-109d28c8a166ca1fec397f3764d1aaed\"}, \"mark\": \"rect\", \"encoding\": {\"color\": {\"type\": \"nominal\", \"field\": \"event\"}, \"x\": {\"type\": \"temporal\", \"field\": \"start\"}, \"x2\": {\"field\": \"end\"}}}, {\"data\": {\"name\": \"data-db79117ca20bef779f0f989a634d6314\"}, \"mark\": {\"type\": \"line\", \"color\": \"#333\"}, \"encoding\": {\"x\": {\"type\": \"temporal\", \"axis\": {\"format\": \"%Y\"}, \"field\": \"year\"}, \"y\": {\"type\": \"quantitative\", \"field\": \"Food availibility per capita (kg/cap/year)\"}}, \"height\": 300, \"width\": 500}, {\"data\": {\"name\": \"data-db79117ca20bef779f0f989a634d6314\"}, \"mark\": {\"type\": \"point\", \"color\": \"#333\"}, \"encoding\": {\"x\": {\"type\": \"temporal\", \"axis\": {\"format\": \"%Y\"}, \"field\": \"year\"}, \"y\": {\"type\": \"quantitative\", \"field\": \"Food availibility per capita (kg/cap/year)\"}}, \"height\": 300, \"width\": 500}], \"$schema\": \"https://vega.github.io/schema/vega-lite/v4.8.1.json\", \"datasets\": {\"data-109d28c8a166ca1fec397f3764d1aaed\": [{\"start\": \"1984\", \"end\": \"1985\", \"event\": \"Kung fu riots, military intervention\"}, {\"start\": \"1991\", \"end\": \"1992\", \"event\": \"Popular protest\"}, {\"start\": \"1993\", \"end\": \"1994\", \"event\": \"Election of Albert Zafy as president of madagascar\"}, {\"start\": \"2009\", \"end\": \"2010\", \"event\": \"Overthrow of Malagasy President Marc Ravalomanana\"}, {\"start\": \"1997\", \"end\": \"2001\", \"event\": \"Economic growth\"}], \"data-db79117ca20bef779f0f989a634d6314\": [{\"year\": \"1980\", \"Food availibility per capita (kg/cap/year)\": 184.226755}, {\"year\": \"1981\", \"Food availibility per capita (kg/cap/year)\": 187.15125}, {\"year\": \"1982\", \"Food availibility per capita (kg/cap/year)\": 171.273137}, {\"year\": \"1983\", \"Food availibility per capita (kg/cap/year)\": 188.991616}, {\"year\": \"1984\", \"Food availibility per capita (kg/cap/year)\": 188.308895}, {\"year\": \"1985\", \"Food availibility per capita (kg/cap/year)\": 188.084513}, {\"year\": \"1986\", \"Food availibility per capita (kg/cap/year)\": 188.377744}, {\"year\": \"1987\", \"Food availibility per capita (kg/cap/year)\": 180.14134}, {\"year\": \"1988\", \"Food availibility per capita (kg/cap/year)\": 170.4122}, {\"year\": \"1989\", \"Food availibility per capita (kg/cap/year)\": 171.191407}, {\"year\": \"1990\", \"Food availibility per capita (kg/cap/year)\": 201.503271}, {\"year\": \"1991\", \"Food availibility per capita (kg/cap/year)\": 190.692285}, {\"year\": \"1992\", \"Food availibility per capita (kg/cap/year)\": 190.611546}, {\"year\": \"1993\", \"Food availibility per capita (kg/cap/year)\": 190.223108}, {\"year\": \"1994\", \"Food availibility per capita (kg/cap/year)\": 189.467723}, {\"year\": \"1995\", \"Food availibility per capita (kg/cap/year)\": 184.402471}, {\"year\": \"1996\", \"Food availibility per capita (kg/cap/year)\": 180.683333}, {\"year\": \"1997\", \"Food availibility per capita (kg/cap/year)\": 181.007763}, {\"year\": \"1998\", \"Food availibility per capita (kg/cap/year)\": 164.44929}, {\"year\": \"1999\", \"Food availibility per capita (kg/cap/year)\": 172.377551}, {\"year\": \"2000\", \"Food availibility per capita (kg/cap/year)\": 173.90721}, {\"year\": \"2001\", \"Food availibility per capita (kg/cap/year)\": 171.888012}, {\"year\": \"2002\", \"Food availibility per capita (kg/cap/year)\": 166.287884}, {\"year\": \"2003\", \"Food availibility per capita (kg/cap/year)\": 170.584228}, {\"year\": \"2004\", \"Food availibility per capita (kg/cap/year)\": 171.460093}, {\"year\": \"2005\", \"Food availibility per capita (kg/cap/year)\": 182.273141}, {\"year\": \"2006\", \"Food availibility per capita (kg/cap/year)\": 183.080942}, {\"year\": \"2007\", \"Food availibility per capita (kg/cap/year)\": 186.022569}, {\"year\": \"2008\", \"Food availibility per capita (kg/cap/year)\": 190.517047}, {\"year\": \"2009\", \"Food availibility per capita (kg/cap/year)\": 189.695677}, {\"year\": \"2010\", \"Food availibility per capita (kg/cap/year)\": 186.797089}, {\"year\": \"2011\", \"Food availibility per capita (kg/cap/year)\": 195.50539}, {\"year\": \"2012\", \"Food availibility per capita (kg/cap/year)\": 189.859699}, {\"year\": \"2013\", \"Food availibility per capita (kg/cap/year)\": 180.880179}]}}, {\"mode\": \"vega-lite\"});\n",
              "</script>"
            ]
          },
          "metadata": {
            "tags": []
          },
          "execution_count": 61
        }
      ]
    },
    {
      "cell_type": "code",
      "metadata": {
        "id": "jgiqwn5X8WdW",
        "colab": {
          "base_uri": "https://localhost:8080/",
          "height": 368
        },
        "outputId": "0f36f742-e64d-457c-a333-8f22b1d6bbcb"
      },
      "source": [
        "Malawi = [\n",
        "      {\"year\": \"1980\", \"Food availibility per capita (kg/cap/year)\": 183.812472},\n",
        "      {\"year\": \"1981\", \"Food availibility per capita (kg/cap/year)\": 183.243505},\n",
        "      {\"year\": \"1982\", \"Food availibility per capita (kg/cap/year)\": 184.941533},\n",
        "      {\"year\": \"1983\", \"Food availibility per capita (kg/cap/year)\": 183.045544},\n",
        "      {\"year\": \"1984\", \"Food availibility per capita (kg/cap/year)\": 174.962656},\n",
        "      {\"year\": \"1985\", \"Food availibility per capita (kg/cap/year)\": 177.707823},\n",
        "      {\"year\": \"1986\", \"Food availibility per capita (kg/cap/year)\": 169.295107},\n",
        "      {\"year\": \"1987\", \"Food availibility per capita (kg/cap/year)\": 168.769168},\n",
        "      {\"year\": \"1988\", \"Food availibility per capita (kg/cap/year)\": 170.483816},\n",
        "      {\"year\": \"1989\", \"Food availibility per capita (kg/cap/year)\": 170.016255},\n",
        "      {\"year\": \"1990\", \"Food availibility per capita (kg/cap/year)\": 153.708973},\n",
        "      {\"year\": \"1991\", \"Food availibility per capita (kg/cap/year)\": 158.935980},\n",
        "      {\"year\": \"1992\", \"Food availibility per capita (kg/cap/year)\": 159.976914},\n",
        "      {\"year\": \"1993\", \"Food availibility per capita (kg/cap/year)\": 177.303774},\n",
        "      {\"year\": \"1994\", \"Food availibility per capita (kg/cap/year)\": 172.529164},\n",
        "      {\"year\": \"1995\", \"Food availibility per capita (kg/cap/year)\": 183.820764},\n",
        "      {\"year\": \"1996\", \"Food availibility per capita (kg/cap/year)\": 191.026093},\n",
        "      {\"year\": \"1997\", \"Food availibility per capita (kg/cap/year)\": 166.262032},\n",
        "      {\"year\": \"1998\", \"Food availibility per capita (kg/cap/year)\": 205.771865},\n",
        "      {\"year\": \"1999\", \"Food availibility per capita (kg/cap/year)\": 204.890542},\n",
        "      {\"year\": \"2000\", \"Food availibility per capita (kg/cap/year)\": 193.986198},\n",
        "      {\"year\": \"2001\", \"Food availibility per capita (kg/cap/year)\": 206.652753},\n",
        "      {\"year\": \"2002\", \"Food availibility per capita (kg/cap/year)\": 190.702879},\n",
        "      {\"year\": \"2003\", \"Food availibility per capita (kg/cap/year)\": 187.210628},\n",
        "      {\"year\": \"2004\", \"Food availibility per capita (kg/cap/year)\": 168.636388},\n",
        "      {\"year\": \"2005\", \"Food availibility per capita (kg/cap/year)\": 177.793653},\n",
        "      {\"year\": \"2006\", \"Food availibility per capita (kg/cap/year)\": 190.164546},\n",
        "      {\"year\": \"2007\", \"Food availibility per capita (kg/cap/year)\": 197.108919},\n",
        "      {\"year\": \"2008\", \"Food availibility per capita (kg/cap/year)\": 193.801947},\n",
        "      {\"year\": \"2009\", \"Food availibility per capita (kg/cap/year)\": 207.055720},\n",
        "      {\"year\": \"2010\", \"Food availibility per capita (kg/cap/year)\": 210.697833},\n",
        "      {\"year\": \"2011\", \"Food availibility per capita (kg/cap/year)\": 205.461043},\n",
        "      {\"year\": \"2012\", \"Food availibility per capita (kg/cap/year)\": 211.242811},\n",
        "      {\"year\": \"2013\", \"Food availibility per capita (kg/cap/year)\": 211.629649},\n",
        "    ]\n",
        "\n",
        "Events = [{\"start\": \"1994\",\"end\": \"1995\",\"event\": \"End of a 30-year one-party regime\"},{\"start\": \"1980\",\"end\": \"1990\",\"event\": \"Authoritarian regime\"},{\"start\": \"1995\",\"end\": \"2013\",\"event\": \"Democratic regime\"}]\n",
        "\n",
        "\n",
        "Malawi = alt.pd.DataFrame(Malawi)\n",
        "Events = alt.pd.DataFrame(Events)\n",
        "\n",
        "\n",
        "line = alt.Chart(Malawi).mark_line(color='#333').encode(\n",
        "    alt.X('year:T', axis=alt.Axis(format='%Y')),\n",
        "    y='Food availibility per capita (kg/cap/year)'\n",
        ").properties(\n",
        "    width=500,\n",
        "    height=300\n",
        ")\n",
        "\n",
        "point = line.mark_point(color='#333')\n",
        "\n",
        "rect = alt.Chart(Events).mark_rect().encode(\n",
        "    x='start:T',\n",
        "    x2='end:T',\n",
        "    color='event:N'\n",
        ")\n",
        "\n",
        "rect + line + point"
      ],
      "execution_count": 62,
      "outputs": [
        {
          "output_type": "execute_result",
          "data": {
            "text/plain": [
              "alt.LayerChart(...)"
            ],
            "text/html": [
              "\n",
              "<div id=\"altair-viz-8f9b6f33267146dbadcfcfb18a2933d3\"></div>\n",
              "<script type=\"text/javascript\">\n",
              "  (function(spec, embedOpt){\n",
              "    let outputDiv = document.currentScript.previousElementSibling;\n",
              "    if (outputDiv.id !== \"altair-viz-8f9b6f33267146dbadcfcfb18a2933d3\") {\n",
              "      outputDiv = document.getElementById(\"altair-viz-8f9b6f33267146dbadcfcfb18a2933d3\");\n",
              "    }\n",
              "    const paths = {\n",
              "      \"vega\": \"https://cdn.jsdelivr.net/npm//vega@5?noext\",\n",
              "      \"vega-lib\": \"https://cdn.jsdelivr.net/npm//vega-lib?noext\",\n",
              "      \"vega-lite\": \"https://cdn.jsdelivr.net/npm//vega-lite@4.8.1?noext\",\n",
              "      \"vega-embed\": \"https://cdn.jsdelivr.net/npm//vega-embed@6?noext\",\n",
              "    };\n",
              "\n",
              "    function loadScript(lib) {\n",
              "      return new Promise(function(resolve, reject) {\n",
              "        var s = document.createElement('script');\n",
              "        s.src = paths[lib];\n",
              "        s.async = true;\n",
              "        s.onload = () => resolve(paths[lib]);\n",
              "        s.onerror = () => reject(`Error loading script: ${paths[lib]}`);\n",
              "        document.getElementsByTagName(\"head\")[0].appendChild(s);\n",
              "      });\n",
              "    }\n",
              "\n",
              "    function showError(err) {\n",
              "      outputDiv.innerHTML = `<div class=\"error\" style=\"color:red;\">${err}</div>`;\n",
              "      throw err;\n",
              "    }\n",
              "\n",
              "    function displayChart(vegaEmbed) {\n",
              "      vegaEmbed(outputDiv, spec, embedOpt)\n",
              "        .catch(err => showError(`Javascript Error: ${err.message}<br>This usually means there's a typo in your chart specification. See the javascript console for the full traceback.`));\n",
              "    }\n",
              "\n",
              "    if(typeof define === \"function\" && define.amd) {\n",
              "      requirejs.config({paths});\n",
              "      require([\"vega-embed\"], displayChart, err => showError(`Error loading script: ${err.message}`));\n",
              "    } else if (typeof vegaEmbed === \"function\") {\n",
              "      displayChart(vegaEmbed);\n",
              "    } else {\n",
              "      loadScript(\"vega\")\n",
              "        .then(() => loadScript(\"vega-lite\"))\n",
              "        .then(() => loadScript(\"vega-embed\"))\n",
              "        .catch(showError)\n",
              "        .then(() => displayChart(vegaEmbed));\n",
              "    }\n",
              "  })({\"config\": {\"view\": {\"continuousWidth\": 400, \"continuousHeight\": 300}}, \"layer\": [{\"data\": {\"name\": \"data-e399d2b4b3c8e309dd1358f1c1379217\"}, \"mark\": \"rect\", \"encoding\": {\"color\": {\"type\": \"nominal\", \"field\": \"event\"}, \"x\": {\"type\": \"temporal\", \"field\": \"start\"}, \"x2\": {\"field\": \"end\"}}}, {\"data\": {\"name\": \"data-2714374b2aaa3ec463ec5c3930bbbeac\"}, \"mark\": {\"type\": \"line\", \"color\": \"#333\"}, \"encoding\": {\"x\": {\"type\": \"temporal\", \"axis\": {\"format\": \"%Y\"}, \"field\": \"year\"}, \"y\": {\"type\": \"quantitative\", \"field\": \"Food availibility per capita (kg/cap/year)\"}}, \"height\": 300, \"width\": 500}, {\"data\": {\"name\": \"data-2714374b2aaa3ec463ec5c3930bbbeac\"}, \"mark\": {\"type\": \"point\", \"color\": \"#333\"}, \"encoding\": {\"x\": {\"type\": \"temporal\", \"axis\": {\"format\": \"%Y\"}, \"field\": \"year\"}, \"y\": {\"type\": \"quantitative\", \"field\": \"Food availibility per capita (kg/cap/year)\"}}, \"height\": 300, \"width\": 500}], \"$schema\": \"https://vega.github.io/schema/vega-lite/v4.8.1.json\", \"datasets\": {\"data-e399d2b4b3c8e309dd1358f1c1379217\": [{\"start\": \"1994\", \"end\": \"1995\", \"event\": \"End of a 30-year one-party regime\"}, {\"start\": \"1980\", \"end\": \"1990\", \"event\": \"Authoritarian regime\"}, {\"start\": \"1995\", \"end\": \"2013\", \"event\": \"Democratic regime\"}], \"data-2714374b2aaa3ec463ec5c3930bbbeac\": [{\"year\": \"1980\", \"Food availibility per capita (kg/cap/year)\": 183.812472}, {\"year\": \"1981\", \"Food availibility per capita (kg/cap/year)\": 183.243505}, {\"year\": \"1982\", \"Food availibility per capita (kg/cap/year)\": 184.941533}, {\"year\": \"1983\", \"Food availibility per capita (kg/cap/year)\": 183.045544}, {\"year\": \"1984\", \"Food availibility per capita (kg/cap/year)\": 174.962656}, {\"year\": \"1985\", \"Food availibility per capita (kg/cap/year)\": 177.707823}, {\"year\": \"1986\", \"Food availibility per capita (kg/cap/year)\": 169.295107}, {\"year\": \"1987\", \"Food availibility per capita (kg/cap/year)\": 168.769168}, {\"year\": \"1988\", \"Food availibility per capita (kg/cap/year)\": 170.483816}, {\"year\": \"1989\", \"Food availibility per capita (kg/cap/year)\": 170.016255}, {\"year\": \"1990\", \"Food availibility per capita (kg/cap/year)\": 153.708973}, {\"year\": \"1991\", \"Food availibility per capita (kg/cap/year)\": 158.93598}, {\"year\": \"1992\", \"Food availibility per capita (kg/cap/year)\": 159.976914}, {\"year\": \"1993\", \"Food availibility per capita (kg/cap/year)\": 177.303774}, {\"year\": \"1994\", \"Food availibility per capita (kg/cap/year)\": 172.529164}, {\"year\": \"1995\", \"Food availibility per capita (kg/cap/year)\": 183.820764}, {\"year\": \"1996\", \"Food availibility per capita (kg/cap/year)\": 191.026093}, {\"year\": \"1997\", \"Food availibility per capita (kg/cap/year)\": 166.262032}, {\"year\": \"1998\", \"Food availibility per capita (kg/cap/year)\": 205.771865}, {\"year\": \"1999\", \"Food availibility per capita (kg/cap/year)\": 204.890542}, {\"year\": \"2000\", \"Food availibility per capita (kg/cap/year)\": 193.986198}, {\"year\": \"2001\", \"Food availibility per capita (kg/cap/year)\": 206.652753}, {\"year\": \"2002\", \"Food availibility per capita (kg/cap/year)\": 190.702879}, {\"year\": \"2003\", \"Food availibility per capita (kg/cap/year)\": 187.210628}, {\"year\": \"2004\", \"Food availibility per capita (kg/cap/year)\": 168.636388}, {\"year\": \"2005\", \"Food availibility per capita (kg/cap/year)\": 177.793653}, {\"year\": \"2006\", \"Food availibility per capita (kg/cap/year)\": 190.164546}, {\"year\": \"2007\", \"Food availibility per capita (kg/cap/year)\": 197.108919}, {\"year\": \"2008\", \"Food availibility per capita (kg/cap/year)\": 193.801947}, {\"year\": \"2009\", \"Food availibility per capita (kg/cap/year)\": 207.05572}, {\"year\": \"2010\", \"Food availibility per capita (kg/cap/year)\": 210.697833}, {\"year\": \"2011\", \"Food availibility per capita (kg/cap/year)\": 205.461043}, {\"year\": \"2012\", \"Food availibility per capita (kg/cap/year)\": 211.242811}, {\"year\": \"2013\", \"Food availibility per capita (kg/cap/year)\": 211.629649}]}}, {\"mode\": \"vega-lite\"});\n",
              "</script>"
            ]
          },
          "metadata": {
            "tags": []
          },
          "execution_count": 62
        }
      ]
    },
    {
      "cell_type": "code",
      "metadata": {
        "id": "X2kK31AWAZgy",
        "colab": {
          "base_uri": "https://localhost:8080/",
          "height": 363
        },
        "outputId": "8b6354ba-2816-4659-f5b1-5eff5fc032eb"
      },
      "source": [
        " Mozambique= [\n",
        "      {\"year\": \"1980\", \"Food availibility per capita (kg/cap/year)\": 171.439408},\n",
        "      {\"year\": \"1981\", \"Food availibility per capita (kg/cap/year)\": 164.060362},\n",
        "      {\"year\": \"1982\", \"Food availibility per capita (kg/cap/year)\": 157.462977},\n",
        "      {\"year\": \"1983\", \"Food availibility per capita (kg/cap/year)\": 152.511657},\n",
        "      {\"year\": \"1984\", \"Food availibility per capita (kg/cap/year)\": 164.706496},\n",
        "      {\"year\": \"1985\", \"Food availibility per capita (kg/cap/year)\": 177.432024},\n",
        "      {\"year\": \"1986\", \"Food availibility per capita (kg/cap/year)\": 157.148552},\n",
        "      {\"year\": \"1987\", \"Food availibility per capita (kg/cap/year)\": 154.529193},\n",
        "      {\"year\": \"1988\", \"Food availibility per capita (kg/cap/year)\": 165.276328},\n",
        "      {\"year\": \"1989\", \"Food availibility per capita (kg/cap/year)\": 156.609771},\n",
        "      {\"year\": \"1990\", \"Food availibility per capita (kg/cap/year)\": 178.121293},\n",
        "      {\"year\": \"1991\", \"Food availibility per capita (kg/cap/year)\": 157.135357},\n",
        "      {\"year\": \"1992\", \"Food availibility per capita (kg/cap/year)\": 160.744914},\n",
        "      {\"year\": \"1993\", \"Food availibility per capita (kg/cap/year)\": 156.623954},\n",
        "      {\"year\": \"1994\", \"Food availibility per capita (kg/cap/year)\": 154.170560},\n",
        "      {\"year\": \"1995\", \"Food availibility per capita (kg/cap/year)\": 164.570306},\n",
        "      {\"year\": \"1996\", \"Food availibility per capita (kg/cap/year)\": 173.043269},\n",
        "      {\"year\": \"1997\", \"Food availibility per capita (kg/cap/year)\": 183.487892},\n",
        "      {\"year\": \"1998\", \"Food availibility per capita (kg/cap/year)\": 187.106344},\n",
        "      {\"year\": \"1999\", \"Food availibility per capita (kg/cap/year)\": 200.180193},\n",
        "      {\"year\": \"2000\", \"Food availibility per capita (kg/cap/year)\": 190.497715},\n",
        "      {\"year\": \"2001\", \"Food availibility per capita (kg/cap/year)\": 190.975762},\n",
        "      {\"year\": \"2002\", \"Food availibility per capita (kg/cap/year)\": 186.436047},\n",
        "      {\"year\": \"2003\", \"Food availibility per capita (kg/cap/year)\": 198.173586},\n",
        "      {\"year\": \"2004\", \"Food availibility per capita (kg/cap/year)\": 202.107226},\n",
        "      {\"year\": \"2005\", \"Food availibility per capita (kg/cap/year)\": 207.783261},\n",
        "      {\"year\": \"2006\", \"Food availibility per capita (kg/cap/year)\": 207.217178},\n",
        "      {\"year\": \"2007\", \"Food availibility per capita (kg/cap/year)\": 193.297920},\n",
        "      {\"year\": \"2008\", \"Food availibility per capita (kg/cap/year)\": 199.373520},\n",
        "      {\"year\": \"2009\", \"Food availibility per capita (kg/cap/year)\": 199.424811},\n",
        "      {\"year\": \"2010\", \"Food availibility per capita (kg/cap/year)\": 259.001093},\n",
        "      {\"year\": \"2011\", \"Food availibility per capita (kg/cap/year)\": 260.337511},\n",
        "      {\"year\": \"2012\", \"Food availibility per capita (kg/cap/year)\": 261.399426},\n",
        "      {\"year\": \"2013\", \"Food availibility per capita (kg/cap/year)\": 261.741299},\n",
        "    ]\n",
        "\n",
        "Events = [{\"start\": \"1980\",\"end\": \"1992\",\"event\": \"Civil war\"},{\"start\":\"1994\",\"end\":\"1995\",\"event\":\"First democratic election - election of Joachim Chissano\"},{\"start\":\"2005\",\"end\":\"2013\",\"event\":\"Armando Guebuza is president\"}]\n",
        "\n",
        "\n",
        "Mozambique = alt.pd.DataFrame(Mozambique)\n",
        "Events = alt.pd.DataFrame(Events)\n",
        "\n",
        "\n",
        "line = alt.Chart(Mozambique).mark_line(color='#333').encode(\n",
        "    alt.X('year:T', axis=alt.Axis(format='%Y')),\n",
        "    y='Food availibility per capita (kg/cap/year)'\n",
        ").properties(\n",
        "    width=500,\n",
        "    height=300\n",
        ")\n",
        "\n",
        "point = line.mark_point(color='#333')\n",
        "\n",
        "rect = alt.Chart(Events).mark_rect().encode(\n",
        "    x='start:T',\n",
        "    x2='end:T',\n",
        "    color='event:N'\n",
        ")\n",
        "\n",
        "rect + line + point"
      ],
      "execution_count": 63,
      "outputs": [
        {
          "output_type": "execute_result",
          "data": {
            "text/plain": [
              "alt.LayerChart(...)"
            ],
            "text/html": [
              "\n",
              "<div id=\"altair-viz-ee48781e9f974b839937f5c8816c52d5\"></div>\n",
              "<script type=\"text/javascript\">\n",
              "  (function(spec, embedOpt){\n",
              "    let outputDiv = document.currentScript.previousElementSibling;\n",
              "    if (outputDiv.id !== \"altair-viz-ee48781e9f974b839937f5c8816c52d5\") {\n",
              "      outputDiv = document.getElementById(\"altair-viz-ee48781e9f974b839937f5c8816c52d5\");\n",
              "    }\n",
              "    const paths = {\n",
              "      \"vega\": \"https://cdn.jsdelivr.net/npm//vega@5?noext\",\n",
              "      \"vega-lib\": \"https://cdn.jsdelivr.net/npm//vega-lib?noext\",\n",
              "      \"vega-lite\": \"https://cdn.jsdelivr.net/npm//vega-lite@4.8.1?noext\",\n",
              "      \"vega-embed\": \"https://cdn.jsdelivr.net/npm//vega-embed@6?noext\",\n",
              "    };\n",
              "\n",
              "    function loadScript(lib) {\n",
              "      return new Promise(function(resolve, reject) {\n",
              "        var s = document.createElement('script');\n",
              "        s.src = paths[lib];\n",
              "        s.async = true;\n",
              "        s.onload = () => resolve(paths[lib]);\n",
              "        s.onerror = () => reject(`Error loading script: ${paths[lib]}`);\n",
              "        document.getElementsByTagName(\"head\")[0].appendChild(s);\n",
              "      });\n",
              "    }\n",
              "\n",
              "    function showError(err) {\n",
              "      outputDiv.innerHTML = `<div class=\"error\" style=\"color:red;\">${err}</div>`;\n",
              "      throw err;\n",
              "    }\n",
              "\n",
              "    function displayChart(vegaEmbed) {\n",
              "      vegaEmbed(outputDiv, spec, embedOpt)\n",
              "        .catch(err => showError(`Javascript Error: ${err.message}<br>This usually means there's a typo in your chart specification. See the javascript console for the full traceback.`));\n",
              "    }\n",
              "\n",
              "    if(typeof define === \"function\" && define.amd) {\n",
              "      requirejs.config({paths});\n",
              "      require([\"vega-embed\"], displayChart, err => showError(`Error loading script: ${err.message}`));\n",
              "    } else if (typeof vegaEmbed === \"function\") {\n",
              "      displayChart(vegaEmbed);\n",
              "    } else {\n",
              "      loadScript(\"vega\")\n",
              "        .then(() => loadScript(\"vega-lite\"))\n",
              "        .then(() => loadScript(\"vega-embed\"))\n",
              "        .catch(showError)\n",
              "        .then(() => displayChart(vegaEmbed));\n",
              "    }\n",
              "  })({\"config\": {\"view\": {\"continuousWidth\": 400, \"continuousHeight\": 300}}, \"layer\": [{\"data\": {\"name\": \"data-7293c72fc5df9be3e4110eb6da8c0131\"}, \"mark\": \"rect\", \"encoding\": {\"color\": {\"type\": \"nominal\", \"field\": \"event\"}, \"x\": {\"type\": \"temporal\", \"field\": \"start\"}, \"x2\": {\"field\": \"end\"}}}, {\"data\": {\"name\": \"data-2f79b3143ca527be0d0ef10e2091a3a4\"}, \"mark\": {\"type\": \"line\", \"color\": \"#333\"}, \"encoding\": {\"x\": {\"type\": \"temporal\", \"axis\": {\"format\": \"%Y\"}, \"field\": \"year\"}, \"y\": {\"type\": \"quantitative\", \"field\": \"Food availibility per capita (kg/cap/year)\"}}, \"height\": 300, \"width\": 500}, {\"data\": {\"name\": \"data-2f79b3143ca527be0d0ef10e2091a3a4\"}, \"mark\": {\"type\": \"point\", \"color\": \"#333\"}, \"encoding\": {\"x\": {\"type\": \"temporal\", \"axis\": {\"format\": \"%Y\"}, \"field\": \"year\"}, \"y\": {\"type\": \"quantitative\", \"field\": \"Food availibility per capita (kg/cap/year)\"}}, \"height\": 300, \"width\": 500}], \"$schema\": \"https://vega.github.io/schema/vega-lite/v4.8.1.json\", \"datasets\": {\"data-7293c72fc5df9be3e4110eb6da8c0131\": [{\"start\": \"1980\", \"end\": \"1992\", \"event\": \"Civil war\"}, {\"start\": \"1994\", \"end\": \"1995\", \"event\": \"First democratic election - election of Joachim Chissano\"}, {\"start\": \"2005\", \"end\": \"2013\", \"event\": \"Armando Guebuza is president\"}], \"data-2f79b3143ca527be0d0ef10e2091a3a4\": [{\"year\": \"1980\", \"Food availibility per capita (kg/cap/year)\": 171.439408}, {\"year\": \"1981\", \"Food availibility per capita (kg/cap/year)\": 164.060362}, {\"year\": \"1982\", \"Food availibility per capita (kg/cap/year)\": 157.462977}, {\"year\": \"1983\", \"Food availibility per capita (kg/cap/year)\": 152.511657}, {\"year\": \"1984\", \"Food availibility per capita (kg/cap/year)\": 164.706496}, {\"year\": \"1985\", \"Food availibility per capita (kg/cap/year)\": 177.432024}, {\"year\": \"1986\", \"Food availibility per capita (kg/cap/year)\": 157.148552}, {\"year\": \"1987\", \"Food availibility per capita (kg/cap/year)\": 154.529193}, {\"year\": \"1988\", \"Food availibility per capita (kg/cap/year)\": 165.276328}, {\"year\": \"1989\", \"Food availibility per capita (kg/cap/year)\": 156.609771}, {\"year\": \"1990\", \"Food availibility per capita (kg/cap/year)\": 178.121293}, {\"year\": \"1991\", \"Food availibility per capita (kg/cap/year)\": 157.135357}, {\"year\": \"1992\", \"Food availibility per capita (kg/cap/year)\": 160.744914}, {\"year\": \"1993\", \"Food availibility per capita (kg/cap/year)\": 156.623954}, {\"year\": \"1994\", \"Food availibility per capita (kg/cap/year)\": 154.17056}, {\"year\": \"1995\", \"Food availibility per capita (kg/cap/year)\": 164.570306}, {\"year\": \"1996\", \"Food availibility per capita (kg/cap/year)\": 173.043269}, {\"year\": \"1997\", \"Food availibility per capita (kg/cap/year)\": 183.487892}, {\"year\": \"1998\", \"Food availibility per capita (kg/cap/year)\": 187.106344}, {\"year\": \"1999\", \"Food availibility per capita (kg/cap/year)\": 200.180193}, {\"year\": \"2000\", \"Food availibility per capita (kg/cap/year)\": 190.497715}, {\"year\": \"2001\", \"Food availibility per capita (kg/cap/year)\": 190.975762}, {\"year\": \"2002\", \"Food availibility per capita (kg/cap/year)\": 186.436047}, {\"year\": \"2003\", \"Food availibility per capita (kg/cap/year)\": 198.173586}, {\"year\": \"2004\", \"Food availibility per capita (kg/cap/year)\": 202.107226}, {\"year\": \"2005\", \"Food availibility per capita (kg/cap/year)\": 207.783261}, {\"year\": \"2006\", \"Food availibility per capita (kg/cap/year)\": 207.217178}, {\"year\": \"2007\", \"Food availibility per capita (kg/cap/year)\": 193.29792}, {\"year\": \"2008\", \"Food availibility per capita (kg/cap/year)\": 199.37352}, {\"year\": \"2009\", \"Food availibility per capita (kg/cap/year)\": 199.424811}, {\"year\": \"2010\", \"Food availibility per capita (kg/cap/year)\": 259.001093}, {\"year\": \"2011\", \"Food availibility per capita (kg/cap/year)\": 260.337511}, {\"year\": \"2012\", \"Food availibility per capita (kg/cap/year)\": 261.399426}, {\"year\": \"2013\", \"Food availibility per capita (kg/cap/year)\": 261.741299}]}}, {\"mode\": \"vega-lite\"});\n",
              "</script>"
            ]
          },
          "metadata": {
            "tags": []
          },
          "execution_count": 63
        }
      ]
    },
    {
      "cell_type": "code",
      "metadata": {
        "id": "Or5JDLXwFRB6",
        "colab": {
          "base_uri": "https://localhost:8080/",
          "height": 368
        },
        "outputId": "3a5005d4-b8fc-486b-810c-1e4aa72e50a7"
      },
      "source": [
        "Namibia= [\n",
        "      {\"year\": \"1980\", \"Food availibility per capita (kg/cap/year)\": 156.782306},\n",
        "      {\"year\": \"1981\", \"Food availibility per capita (kg/cap/year)\": 161.413031},\n",
        "      {\"year\": \"1982\", \"Food availibility per capita (kg/cap/year)\": 161.059501},\n",
        "      {\"year\": \"1983\", \"Food availibility per capita (kg/cap/year)\": 160.987105},\n",
        "      {\"year\": \"1984\", \"Food availibility per capita (kg/cap/year)\": 159.595100},\n",
        "      {\"year\": \"1985\", \"Food availibility per capita (kg/cap/year)\": 151.555568},\n",
        "      {\"year\": \"1986\", \"Food availibility per capita (kg/cap/year)\": 149.705745},\n",
        "      {\"year\": \"1987\", \"Food availibility per capita (kg/cap/year)\": 160.687877},\n",
        "      {\"year\": \"1988\", \"Food availibility per capita (kg/cap/year)\": 158.084905},\n",
        "      {\"year\": \"1989\", \"Food availibility per capita (kg/cap/year)\": 150.346457},\n",
        "      {\"year\": \"1990\", \"Food availibility per capita (kg/cap/year)\": 143.097261},\n",
        "      {\"year\": \"1991\", \"Food availibility per capita (kg/cap/year)\": 137.072965},\n",
        "      {\"year\": \"1992\", \"Food availibility per capita (kg/cap/year)\": 152.211281},\n",
        "      {\"year\": \"1993\", \"Food availibility per capita (kg/cap/year)\": 150.122595},\n",
        "      {\"year\": \"1994\", \"Food availibility per capita (kg/cap/year)\": 151.949395},\n",
        "      {\"year\": \"1995\", \"Food availibility per capita (kg/cap/year)\": 148.695903},\n",
        "      {\"year\": \"1996\", \"Food availibility per capita (kg/cap/year)\": 155.145082},\n",
        "      {\"year\": \"1997\", \"Food availibility per capita (kg/cap/year)\": 172.788745},\n",
        "      {\"year\": \"1998\", \"Food availibility per capita (kg/cap/year)\": 160.723411},\n",
        "      {\"year\": \"1999\", \"Food availibility per capita (kg/cap/year)\": 165.534903},\n",
        "      {\"year\": \"2000\", \"Food availibility per capita (kg/cap/year)\": 169.590951},\n",
        "      {\"year\": \"2001\", \"Food availibility per capita (kg/cap/year)\": 166.891655},\n",
        "      {\"year\": \"2002\", \"Food availibility per capita (kg/cap/year)\": 170.538376},\n",
        "      {\"year\": \"2003\", \"Food availibility per capita (kg/cap/year)\": 173.562274},\n",
        "      {\"year\": \"2004\", \"Food availibility per capita (kg/cap/year)\": 178.956393},\n",
        "      {\"year\": \"2005\", \"Food availibility per capita (kg/cap/year)\": 180.047599},\n",
        "      {\"year\": \"2006\", \"Food availibility per capita (kg/cap/year)\": 182.884123},\n",
        "      {\"year\": \"2007\", \"Food availibility per capita (kg/cap/year)\": 181.979736},\n",
        "      {\"year\": \"2008\", \"Food availibility per capita (kg/cap/year)\": 174.878179},\n",
        "      {\"year\": \"2009\", \"Food availibility per capita (kg/cap/year)\": 164.356118},\n",
        "      {\"year\": \"2010\", \"Food availibility per capita (kg/cap/year)\": 172.026357},\n",
        "      {\"year\": \"2011\", \"Food availibility per capita (kg/cap/year)\": 174.343928},\n",
        "      {\"year\": \"2012\", \"Food availibility per capita (kg/cap/year)\": 175.182253},\n",
        "      {\"year\": \"2013\", \"Food availibility per capita (kg/cap/year)\": 175.848092},\n",
        "    ]\n",
        "\n",
        "Events = [{\"start\": \"1991\",\"end\": \"1992\",\"event\": \"Declaration of Independence\"},{\"start\": \"2005\",\"end\": \"2013\",\"event\": \"Hifikepunye Pohamba is president\"},{\"start\": \"1980\",\"end\": \"1981\",\"event\": \"First government of South West Africa/Namibia\"},{\"start\": \"1983\",\"end\": \"1984\",\"event\": \"The National Assembly is dissolved\"},{\"start\": \"1985\",\"end\": \"1986\",\"event\": \"Intermediate government set up by south africa\"}]\n",
        "\n",
        "\n",
        "Namibia = alt.pd.DataFrame(Namibia)\n",
        "Events = alt.pd.DataFrame(Events)\n",
        "\n",
        "\n",
        "line = alt.Chart(Namibia).mark_line(color='#333').encode(\n",
        "    alt.X('year:T', axis=alt.Axis(format='%Y')),\n",
        "    y='Food availibility per capita (kg/cap/year)'\n",
        ").properties(\n",
        "    width=500,\n",
        "    height=300\n",
        ")\n",
        "\n",
        "point = line.mark_point(color='#333')\n",
        "\n",
        "rect = alt.Chart(Events).mark_rect().encode(\n",
        "    x='start:T',\n",
        "    x2='end:T',\n",
        "    color='event:N'\n",
        ")\n",
        "\n",
        "rect + line + point"
      ],
      "execution_count": 64,
      "outputs": [
        {
          "output_type": "execute_result",
          "data": {
            "text/plain": [
              "alt.LayerChart(...)"
            ],
            "text/html": [
              "\n",
              "<div id=\"altair-viz-8aaa6128daa84441b36616167601e511\"></div>\n",
              "<script type=\"text/javascript\">\n",
              "  (function(spec, embedOpt){\n",
              "    let outputDiv = document.currentScript.previousElementSibling;\n",
              "    if (outputDiv.id !== \"altair-viz-8aaa6128daa84441b36616167601e511\") {\n",
              "      outputDiv = document.getElementById(\"altair-viz-8aaa6128daa84441b36616167601e511\");\n",
              "    }\n",
              "    const paths = {\n",
              "      \"vega\": \"https://cdn.jsdelivr.net/npm//vega@5?noext\",\n",
              "      \"vega-lib\": \"https://cdn.jsdelivr.net/npm//vega-lib?noext\",\n",
              "      \"vega-lite\": \"https://cdn.jsdelivr.net/npm//vega-lite@4.8.1?noext\",\n",
              "      \"vega-embed\": \"https://cdn.jsdelivr.net/npm//vega-embed@6?noext\",\n",
              "    };\n",
              "\n",
              "    function loadScript(lib) {\n",
              "      return new Promise(function(resolve, reject) {\n",
              "        var s = document.createElement('script');\n",
              "        s.src = paths[lib];\n",
              "        s.async = true;\n",
              "        s.onload = () => resolve(paths[lib]);\n",
              "        s.onerror = () => reject(`Error loading script: ${paths[lib]}`);\n",
              "        document.getElementsByTagName(\"head\")[0].appendChild(s);\n",
              "      });\n",
              "    }\n",
              "\n",
              "    function showError(err) {\n",
              "      outputDiv.innerHTML = `<div class=\"error\" style=\"color:red;\">${err}</div>`;\n",
              "      throw err;\n",
              "    }\n",
              "\n",
              "    function displayChart(vegaEmbed) {\n",
              "      vegaEmbed(outputDiv, spec, embedOpt)\n",
              "        .catch(err => showError(`Javascript Error: ${err.message}<br>This usually means there's a typo in your chart specification. See the javascript console for the full traceback.`));\n",
              "    }\n",
              "\n",
              "    if(typeof define === \"function\" && define.amd) {\n",
              "      requirejs.config({paths});\n",
              "      require([\"vega-embed\"], displayChart, err => showError(`Error loading script: ${err.message}`));\n",
              "    } else if (typeof vegaEmbed === \"function\") {\n",
              "      displayChart(vegaEmbed);\n",
              "    } else {\n",
              "      loadScript(\"vega\")\n",
              "        .then(() => loadScript(\"vega-lite\"))\n",
              "        .then(() => loadScript(\"vega-embed\"))\n",
              "        .catch(showError)\n",
              "        .then(() => displayChart(vegaEmbed));\n",
              "    }\n",
              "  })({\"config\": {\"view\": {\"continuousWidth\": 400, \"continuousHeight\": 300}}, \"layer\": [{\"data\": {\"name\": \"data-ecf309ba7eeac0ac08b8597b6ab3caa8\"}, \"mark\": \"rect\", \"encoding\": {\"color\": {\"type\": \"nominal\", \"field\": \"event\"}, \"x\": {\"type\": \"temporal\", \"field\": \"start\"}, \"x2\": {\"field\": \"end\"}}}, {\"data\": {\"name\": \"data-378f7048413d4089ec1650d43d1970c4\"}, \"mark\": {\"type\": \"line\", \"color\": \"#333\"}, \"encoding\": {\"x\": {\"type\": \"temporal\", \"axis\": {\"format\": \"%Y\"}, \"field\": \"year\"}, \"y\": {\"type\": \"quantitative\", \"field\": \"Food availibility per capita (kg/cap/year)\"}}, \"height\": 300, \"width\": 500}, {\"data\": {\"name\": \"data-378f7048413d4089ec1650d43d1970c4\"}, \"mark\": {\"type\": \"point\", \"color\": \"#333\"}, \"encoding\": {\"x\": {\"type\": \"temporal\", \"axis\": {\"format\": \"%Y\"}, \"field\": \"year\"}, \"y\": {\"type\": \"quantitative\", \"field\": \"Food availibility per capita (kg/cap/year)\"}}, \"height\": 300, \"width\": 500}], \"$schema\": \"https://vega.github.io/schema/vega-lite/v4.8.1.json\", \"datasets\": {\"data-ecf309ba7eeac0ac08b8597b6ab3caa8\": [{\"start\": \"1991\", \"end\": \"1992\", \"event\": \"Declaration of Independence\"}, {\"start\": \"2005\", \"end\": \"2013\", \"event\": \"Hifikepunye Pohamba is president\"}, {\"start\": \"1980\", \"end\": \"1981\", \"event\": \"First government of South West Africa/Namibia\"}, {\"start\": \"1983\", \"end\": \"1984\", \"event\": \"The National Assembly is dissolved\"}, {\"start\": \"1985\", \"end\": \"1986\", \"event\": \"Intermediate government set up by south africa\"}], \"data-378f7048413d4089ec1650d43d1970c4\": [{\"year\": \"1980\", \"Food availibility per capita (kg/cap/year)\": 156.782306}, {\"year\": \"1981\", \"Food availibility per capita (kg/cap/year)\": 161.413031}, {\"year\": \"1982\", \"Food availibility per capita (kg/cap/year)\": 161.059501}, {\"year\": \"1983\", \"Food availibility per capita (kg/cap/year)\": 160.987105}, {\"year\": \"1984\", \"Food availibility per capita (kg/cap/year)\": 159.5951}, {\"year\": \"1985\", \"Food availibility per capita (kg/cap/year)\": 151.555568}, {\"year\": \"1986\", \"Food availibility per capita (kg/cap/year)\": 149.705745}, {\"year\": \"1987\", \"Food availibility per capita (kg/cap/year)\": 160.687877}, {\"year\": \"1988\", \"Food availibility per capita (kg/cap/year)\": 158.084905}, {\"year\": \"1989\", \"Food availibility per capita (kg/cap/year)\": 150.346457}, {\"year\": \"1990\", \"Food availibility per capita (kg/cap/year)\": 143.097261}, {\"year\": \"1991\", \"Food availibility per capita (kg/cap/year)\": 137.072965}, {\"year\": \"1992\", \"Food availibility per capita (kg/cap/year)\": 152.211281}, {\"year\": \"1993\", \"Food availibility per capita (kg/cap/year)\": 150.122595}, {\"year\": \"1994\", \"Food availibility per capita (kg/cap/year)\": 151.949395}, {\"year\": \"1995\", \"Food availibility per capita (kg/cap/year)\": 148.695903}, {\"year\": \"1996\", \"Food availibility per capita (kg/cap/year)\": 155.145082}, {\"year\": \"1997\", \"Food availibility per capita (kg/cap/year)\": 172.788745}, {\"year\": \"1998\", \"Food availibility per capita (kg/cap/year)\": 160.723411}, {\"year\": \"1999\", \"Food availibility per capita (kg/cap/year)\": 165.534903}, {\"year\": \"2000\", \"Food availibility per capita (kg/cap/year)\": 169.590951}, {\"year\": \"2001\", \"Food availibility per capita (kg/cap/year)\": 166.891655}, {\"year\": \"2002\", \"Food availibility per capita (kg/cap/year)\": 170.538376}, {\"year\": \"2003\", \"Food availibility per capita (kg/cap/year)\": 173.562274}, {\"year\": \"2004\", \"Food availibility per capita (kg/cap/year)\": 178.956393}, {\"year\": \"2005\", \"Food availibility per capita (kg/cap/year)\": 180.047599}, {\"year\": \"2006\", \"Food availibility per capita (kg/cap/year)\": 182.884123}, {\"year\": \"2007\", \"Food availibility per capita (kg/cap/year)\": 181.979736}, {\"year\": \"2008\", \"Food availibility per capita (kg/cap/year)\": 174.878179}, {\"year\": \"2009\", \"Food availibility per capita (kg/cap/year)\": 164.356118}, {\"year\": \"2010\", \"Food availibility per capita (kg/cap/year)\": 172.026357}, {\"year\": \"2011\", \"Food availibility per capita (kg/cap/year)\": 174.343928}, {\"year\": \"2012\", \"Food availibility per capita (kg/cap/year)\": 175.182253}, {\"year\": \"2013\", \"Food availibility per capita (kg/cap/year)\": 175.848092}]}}, {\"mode\": \"vega-lite\"});\n",
              "</script>"
            ]
          },
          "metadata": {
            "tags": []
          },
          "execution_count": 64
        }
      ]
    },
    {
      "cell_type": "code",
      "metadata": {
        "colab": {
          "base_uri": "https://localhost:8080/",
          "height": 368
        },
        "id": "Tn-EUcaoWFaF",
        "outputId": "49aace56-1a14-480b-bb7c-782a1aaaa6ef"
      },
      "source": [
        "Swaziland = [\n",
        "      {\"year\": \"1980\", \"Food availibility per capita (kg/cap/year)\": 155.588699},\n",
        "      {\"year\": \"1981\", \"Food availibility per capita (kg/cap/year)\": 159.346641},\n",
        "      {\"year\": \"1982\", \"Food availibility per capita (kg/cap/year)\": 162.718057},\n",
        "      {\"year\": \"1983\", \"Food availibility per capita (kg/cap/year)\": 162.376886},\n",
        "      {\"year\": \"1984\", \"Food availibility per capita (kg/cap/year)\": 165.589851},\n",
        "      {\"year\": \"1985\", \"Food availibility per capita (kg/cap/year)\": 151.601143},\n",
        "      {\"year\": \"1986\", \"Food availibility per capita (kg/cap/year)\": 159.518665},\n",
        "      {\"year\": \"1987\", \"Food availibility per capita (kg/cap/year)\": 163.592688},\n",
        "      {\"year\": \"1988\", \"Food availibility per capita (kg/cap/year)\": 155.983019},\n",
        "      {\"year\": \"1989\", \"Food availibility per capita (kg/cap/year)\": 153.072325},\n",
        "      {\"year\": \"1990\", \"Food availibility per capita (kg/cap/year)\": 189.866422},\n",
        "      {\"year\": \"1991\", \"Food availibility per capita (kg/cap/year)\": 212.021716},\n",
        "      {\"year\": \"1992\", \"Food availibility per capita (kg/cap/year)\": 183.628668},\n",
        "      {\"year\": \"1993\", \"Food availibility per capita (kg/cap/year)\": 173.309277},\n",
        "      {\"year\": \"1994\", \"Food availibility per capita (kg/cap/year)\": 191.785178},\n",
        "      {\"year\": \"1995\", \"Food availibility per capita (kg/cap/year)\": 140.881454},\n",
        "      {\"year\": \"1996\", \"Food availibility per capita (kg/cap/year)\": 193.956758},\n",
        "      {\"year\": \"1997\", \"Food availibility per capita (kg/cap/year)\": 164.285137},\n",
        "      {\"year\": \"1998\", \"Food availibility per capita (kg/cap/year)\": 166.432709},\n",
        "      {\"year\": \"1999\", \"Food availibility per capita (kg/cap/year)\": 165.189251},\n",
        "      {\"year\": \"2000\", \"Food availibility per capita (kg/cap/year)\": 164.636978},\n",
        "      {\"year\": \"2001\", \"Food availibility per capita (kg/cap/year)\": 162.267616},\n",
        "      {\"year\": \"2002\", \"Food availibility per capita (kg/cap/year)\": 165.145558},\n",
        "      {\"year\": \"2003\", \"Food availibility per capita (kg/cap/year)\": 160.951190},\n",
        "      {\"year\": \"2004\", \"Food availibility per capita (kg/cap/year)\": 163.383426},\n",
        "      {\"year\": \"2005\", \"Food availibility per capita (kg/cap/year)\": 161.345016},\n",
        "      {\"year\": \"2006\", \"Food availibility per capita (kg/cap/year)\": 160.619696},\n",
        "      {\"year\": \"2007\", \"Food availibility per capita (kg/cap/year)\": 157.420266},\n",
        "      {\"year\": \"2008\", \"Food availibility per capita (kg/cap/year)\": 160.272014},\n",
        "      {\"year\": \"2009\", \"Food availibility per capita (kg/cap/year)\": 158.137415},\n",
        "      {\"year\": \"2010\", \"Food availibility per capita (kg/cap/year)\": 160.432484},\n",
        "      {\"year\": \"2011\", \"Food availibility per capita (kg/cap/year)\": 161.866048},\n",
        "      {\"year\": \"2012\", \"Food availibility per capita (kg/cap/year)\": 161.344064},\n",
        "      {\"year\": \"2013\", \"Food availibility per capita (kg/cap/year)\": 162.491229},\n",
        "    ]\n",
        "\n",
        "Events = [{\"start\": \"1982\",\"end\": \"1983\",\"event\": \"Death of King Sobhuza II\"},{\"start\":\"1986\",\"end\":\"2013\",\"event\":\"Mswati III absolute monarch\"},{\"start\":\"2005\",\"end\":\"2006\",\"event\":\"First constitution by the swazis\"},{\"start\":\"2006\",\"end\":\"2007\",\"event\":\"Entry into force of the constitution\"}]\n",
        "\n",
        "\n",
        "Swaziland = alt.pd.DataFrame(Swaziland)\n",
        "Events = alt.pd.DataFrame(Events)\n",
        "\n",
        "\n",
        "line = alt.Chart(Swaziland).mark_line(color='#333').encode(\n",
        "    alt.X('year:T', axis=alt.Axis(format='%Y')),\n",
        "    y='Food availibility per capita (kg/cap/year)'\n",
        ").properties(\n",
        "    width=500,\n",
        "    height=300\n",
        ")\n",
        "\n",
        "point = line.mark_point(color='#333')\n",
        "\n",
        "rect = alt.Chart(Events).mark_rect().encode(\n",
        "    x='start:T',\n",
        "    x2='end:T',\n",
        "    color='event:N'\n",
        ")\n",
        "\n",
        "rect + line + point"
      ],
      "execution_count": 65,
      "outputs": [
        {
          "output_type": "execute_result",
          "data": {
            "text/plain": [
              "alt.LayerChart(...)"
            ],
            "text/html": [
              "\n",
              "<div id=\"altair-viz-df99074d3f9945db864b2e63845dc8d8\"></div>\n",
              "<script type=\"text/javascript\">\n",
              "  (function(spec, embedOpt){\n",
              "    let outputDiv = document.currentScript.previousElementSibling;\n",
              "    if (outputDiv.id !== \"altair-viz-df99074d3f9945db864b2e63845dc8d8\") {\n",
              "      outputDiv = document.getElementById(\"altair-viz-df99074d3f9945db864b2e63845dc8d8\");\n",
              "    }\n",
              "    const paths = {\n",
              "      \"vega\": \"https://cdn.jsdelivr.net/npm//vega@5?noext\",\n",
              "      \"vega-lib\": \"https://cdn.jsdelivr.net/npm//vega-lib?noext\",\n",
              "      \"vega-lite\": \"https://cdn.jsdelivr.net/npm//vega-lite@4.8.1?noext\",\n",
              "      \"vega-embed\": \"https://cdn.jsdelivr.net/npm//vega-embed@6?noext\",\n",
              "    };\n",
              "\n",
              "    function loadScript(lib) {\n",
              "      return new Promise(function(resolve, reject) {\n",
              "        var s = document.createElement('script');\n",
              "        s.src = paths[lib];\n",
              "        s.async = true;\n",
              "        s.onload = () => resolve(paths[lib]);\n",
              "        s.onerror = () => reject(`Error loading script: ${paths[lib]}`);\n",
              "        document.getElementsByTagName(\"head\")[0].appendChild(s);\n",
              "      });\n",
              "    }\n",
              "\n",
              "    function showError(err) {\n",
              "      outputDiv.innerHTML = `<div class=\"error\" style=\"color:red;\">${err}</div>`;\n",
              "      throw err;\n",
              "    }\n",
              "\n",
              "    function displayChart(vegaEmbed) {\n",
              "      vegaEmbed(outputDiv, spec, embedOpt)\n",
              "        .catch(err => showError(`Javascript Error: ${err.message}<br>This usually means there's a typo in your chart specification. See the javascript console for the full traceback.`));\n",
              "    }\n",
              "\n",
              "    if(typeof define === \"function\" && define.amd) {\n",
              "      requirejs.config({paths});\n",
              "      require([\"vega-embed\"], displayChart, err => showError(`Error loading script: ${err.message}`));\n",
              "    } else if (typeof vegaEmbed === \"function\") {\n",
              "      displayChart(vegaEmbed);\n",
              "    } else {\n",
              "      loadScript(\"vega\")\n",
              "        .then(() => loadScript(\"vega-lite\"))\n",
              "        .then(() => loadScript(\"vega-embed\"))\n",
              "        .catch(showError)\n",
              "        .then(() => displayChart(vegaEmbed));\n",
              "    }\n",
              "  })({\"config\": {\"view\": {\"continuousWidth\": 400, \"continuousHeight\": 300}}, \"layer\": [{\"data\": {\"name\": \"data-f935283ab4e66e0649f29a938b4db826\"}, \"mark\": \"rect\", \"encoding\": {\"color\": {\"type\": \"nominal\", \"field\": \"event\"}, \"x\": {\"type\": \"temporal\", \"field\": \"start\"}, \"x2\": {\"field\": \"end\"}}}, {\"data\": {\"name\": \"data-0027b78ada28873a169edd6b1b4dd81c\"}, \"mark\": {\"type\": \"line\", \"color\": \"#333\"}, \"encoding\": {\"x\": {\"type\": \"temporal\", \"axis\": {\"format\": \"%Y\"}, \"field\": \"year\"}, \"y\": {\"type\": \"quantitative\", \"field\": \"Food availibility per capita (kg/cap/year)\"}}, \"height\": 300, \"width\": 500}, {\"data\": {\"name\": \"data-0027b78ada28873a169edd6b1b4dd81c\"}, \"mark\": {\"type\": \"point\", \"color\": \"#333\"}, \"encoding\": {\"x\": {\"type\": \"temporal\", \"axis\": {\"format\": \"%Y\"}, \"field\": \"year\"}, \"y\": {\"type\": \"quantitative\", \"field\": \"Food availibility per capita (kg/cap/year)\"}}, \"height\": 300, \"width\": 500}], \"$schema\": \"https://vega.github.io/schema/vega-lite/v4.8.1.json\", \"datasets\": {\"data-f935283ab4e66e0649f29a938b4db826\": [{\"start\": \"1982\", \"end\": \"1983\", \"event\": \"Death of King Sobhuza II\"}, {\"start\": \"1986\", \"end\": \"2013\", \"event\": \"Mswati III absolute monarch\"}, {\"start\": \"2005\", \"end\": \"2006\", \"event\": \"First constitution by the swazis\"}, {\"start\": \"2006\", \"end\": \"2007\", \"event\": \"Entry into force of the constitution\"}], \"data-0027b78ada28873a169edd6b1b4dd81c\": [{\"year\": \"1980\", \"Food availibility per capita (kg/cap/year)\": 155.588699}, {\"year\": \"1981\", \"Food availibility per capita (kg/cap/year)\": 159.346641}, {\"year\": \"1982\", \"Food availibility per capita (kg/cap/year)\": 162.718057}, {\"year\": \"1983\", \"Food availibility per capita (kg/cap/year)\": 162.376886}, {\"year\": \"1984\", \"Food availibility per capita (kg/cap/year)\": 165.589851}, {\"year\": \"1985\", \"Food availibility per capita (kg/cap/year)\": 151.601143}, {\"year\": \"1986\", \"Food availibility per capita (kg/cap/year)\": 159.518665}, {\"year\": \"1987\", \"Food availibility per capita (kg/cap/year)\": 163.592688}, {\"year\": \"1988\", \"Food availibility per capita (kg/cap/year)\": 155.983019}, {\"year\": \"1989\", \"Food availibility per capita (kg/cap/year)\": 153.072325}, {\"year\": \"1990\", \"Food availibility per capita (kg/cap/year)\": 189.866422}, {\"year\": \"1991\", \"Food availibility per capita (kg/cap/year)\": 212.021716}, {\"year\": \"1992\", \"Food availibility per capita (kg/cap/year)\": 183.628668}, {\"year\": \"1993\", \"Food availibility per capita (kg/cap/year)\": 173.309277}, {\"year\": \"1994\", \"Food availibility per capita (kg/cap/year)\": 191.785178}, {\"year\": \"1995\", \"Food availibility per capita (kg/cap/year)\": 140.881454}, {\"year\": \"1996\", \"Food availibility per capita (kg/cap/year)\": 193.956758}, {\"year\": \"1997\", \"Food availibility per capita (kg/cap/year)\": 164.285137}, {\"year\": \"1998\", \"Food availibility per capita (kg/cap/year)\": 166.432709}, {\"year\": \"1999\", \"Food availibility per capita (kg/cap/year)\": 165.189251}, {\"year\": \"2000\", \"Food availibility per capita (kg/cap/year)\": 164.636978}, {\"year\": \"2001\", \"Food availibility per capita (kg/cap/year)\": 162.267616}, {\"year\": \"2002\", \"Food availibility per capita (kg/cap/year)\": 165.145558}, {\"year\": \"2003\", \"Food availibility per capita (kg/cap/year)\": 160.95119}, {\"year\": \"2004\", \"Food availibility per capita (kg/cap/year)\": 163.383426}, {\"year\": \"2005\", \"Food availibility per capita (kg/cap/year)\": 161.345016}, {\"year\": \"2006\", \"Food availibility per capita (kg/cap/year)\": 160.619696}, {\"year\": \"2007\", \"Food availibility per capita (kg/cap/year)\": 157.420266}, {\"year\": \"2008\", \"Food availibility per capita (kg/cap/year)\": 160.272014}, {\"year\": \"2009\", \"Food availibility per capita (kg/cap/year)\": 158.137415}, {\"year\": \"2010\", \"Food availibility per capita (kg/cap/year)\": 160.432484}, {\"year\": \"2011\", \"Food availibility per capita (kg/cap/year)\": 161.866048}, {\"year\": \"2012\", \"Food availibility per capita (kg/cap/year)\": 161.344064}, {\"year\": \"2013\", \"Food availibility per capita (kg/cap/year)\": 162.491229}]}}, {\"mode\": \"vega-lite\"});\n",
              "</script>"
            ]
          },
          "metadata": {
            "tags": []
          },
          "execution_count": 65
        }
      ]
    },
    {
      "cell_type": "code",
      "metadata": {
        "colab": {
          "base_uri": "https://localhost:8080/",
          "height": 368
        },
        "id": "A0bpVlmEb3s4",
        "outputId": "8bd2882e-9952-4682-b6d0-40f3d79c2bcf"
      },
      "source": [
        "Zambia = [\n",
        "      {\"year\": \"1980\", \"Food availibility per capita (kg/cap/year)\": 213.006102},\n",
        "      {\"year\": \"1981\", \"Food availibility per capita (kg/cap/year)\": 209.943961},\n",
        "      {\"year\": \"1982\", \"Food availibility per capita (kg/cap/year)\": 198.113501},\n",
        "      {\"year\": \"1983\", \"Food availibility per capita (kg/cap/year)\": 200.652256},\n",
        "      {\"year\": \"1984\", \"Food availibility per capita (kg/cap/year)\": 199.174007},\n",
        "      {\"year\": \"1985\", \"Food availibility per capita (kg/cap/year)\": 192.383677},\n",
        "      {\"year\": \"1986\", \"Food availibility per capita (kg/cap/year)\": 194.505178},\n",
        "      {\"year\": \"1987\", \"Food availibility per capita (kg/cap/year)\": 192.854528},\n",
        "      {\"year\": \"1988\", \"Food availibility per capita (kg/cap/year)\": 195.415408},\n",
        "      {\"year\": \"1989\", \"Food availibility per capita (kg/cap/year)\": 193.750858},\n",
        "      {\"year\": \"1990\", \"Food availibility per capita (kg/cap/year)\": 198.835274},\n",
        "      {\"year\": \"1991\", \"Food availibility per capita (kg/cap/year)\": 178.578242},\n",
        "      {\"year\": \"1992\", \"Food availibility per capita (kg/cap/year)\": 169.362031},\n",
        "      {\"year\": \"1993\", \"Food availibility per capita (kg/cap/year)\": 183.264442},\n",
        "      {\"year\": \"1994\", \"Food availibility per capita (kg/cap/year)\": 175.286235},\n",
        "      {\"year\": \"1995\", \"Food availibility per capita (kg/cap/year)\": 169.110664},\n",
        "      {\"year\": \"1996\", \"Food availibility per capita (kg/cap/year)\": 167.338696},\n",
        "      {\"year\": \"1997\", \"Food availibility per capita (kg/cap/year)\": 161.098573},\n",
        "      {\"year\": \"1998\", \"Food availibility per capita (kg/cap/year)\": 141.595014},\n",
        "      {\"year\": \"1999\", \"Food availibility per capita (kg/cap/year)\": 146.469081},\n",
        "      {\"year\": \"2000\", \"Food availibility per capita (kg/cap/year)\": 134.764539},\n",
        "      {\"year\": \"2001\", \"Food availibility per capita (kg/cap/year)\": 139.710353},\n",
        "      {\"year\": \"2002\", \"Food availibility per capita (kg/cap/year)\": 125.957625},\n",
        "      {\"year\": \"2003\", \"Food availibility per capita (kg/cap/year)\": 138.124819},\n",
        "      {\"year\": \"2004\", \"Food availibility per capita (kg/cap/year)\": 137.397087},\n",
        "      {\"year\": \"2005\", \"Food availibility per capita (kg/cap/year)\": 135.369203},\n",
        "      {\"year\": \"2006\", \"Food availibility per capita (kg/cap/year)\": 136.983614},\n",
        "      {\"year\": \"2007\", \"Food availibility per capita (kg/cap/year)\": 137.636198},\n",
        "      {\"year\": \"2008\", \"Food availibility per capita (kg/cap/year)\": 145.855477},\n",
        "      {\"year\": \"2009\", \"Food availibility per capita (kg/cap/year)\": 146.970631},\n",
        "      {\"year\": \"2010\", \"Food availibility per capita (kg/cap/year)\": 150.969883},\n",
        "      {\"year\": \"2011\", \"Food availibility per capita (kg/cap/year)\": 152.932415},\n",
        "      {\"year\": \"2012\", \"Food availibility per capita (kg/cap/year)\": 148.678663},\n",
        "      {\"year\": \"2013\", \"Food availibility per capita (kg/cap/year)\": 147.036403},\n",
        "    ]\n",
        "\n",
        "Events = [{\"start\": \"1980\",\"end\": \"1990\",\"event\": \"Challenges against Kenneth Kaunda regime (single party)\"},{\"start\":\"1991\",\"end\":\"1992\",\"event\":\"First multi-party elections\"},{\"start\":\"1992\",\"end\":\"2013\",\"event\":\"Liberal policy\"},{\"start\":\"2002\",\"end\":\"2003\",\"event\":\"Famine\"}]\n",
        "\n",
        "\n",
        "Zambia = alt.pd.DataFrame(Zambia)\n",
        "Events = alt.pd.DataFrame(Events)\n",
        "\n",
        "\n",
        "line = alt.Chart(Zambia).mark_line(color='#333').encode(\n",
        "    alt.X('year:T', axis=alt.Axis(format='%Y')),\n",
        "    y='Food availibility per capita (kg/cap/year)'\n",
        ").properties(\n",
        "    width=500,\n",
        "    height=300\n",
        ")\n",
        "\n",
        "point = line.mark_point(color='#333')\n",
        "\n",
        "rect = alt.Chart(Events).mark_rect().encode(\n",
        "    x='start:T',\n",
        "    x2='end:T',\n",
        "    color='event:N'\n",
        ")\n",
        "\n",
        "rect + line + point"
      ],
      "execution_count": 66,
      "outputs": [
        {
          "output_type": "execute_result",
          "data": {
            "text/plain": [
              "alt.LayerChart(...)"
            ],
            "text/html": [
              "\n",
              "<div id=\"altair-viz-a99e40283d9a4ccabdd53b3180fb1762\"></div>\n",
              "<script type=\"text/javascript\">\n",
              "  (function(spec, embedOpt){\n",
              "    let outputDiv = document.currentScript.previousElementSibling;\n",
              "    if (outputDiv.id !== \"altair-viz-a99e40283d9a4ccabdd53b3180fb1762\") {\n",
              "      outputDiv = document.getElementById(\"altair-viz-a99e40283d9a4ccabdd53b3180fb1762\");\n",
              "    }\n",
              "    const paths = {\n",
              "      \"vega\": \"https://cdn.jsdelivr.net/npm//vega@5?noext\",\n",
              "      \"vega-lib\": \"https://cdn.jsdelivr.net/npm//vega-lib?noext\",\n",
              "      \"vega-lite\": \"https://cdn.jsdelivr.net/npm//vega-lite@4.8.1?noext\",\n",
              "      \"vega-embed\": \"https://cdn.jsdelivr.net/npm//vega-embed@6?noext\",\n",
              "    };\n",
              "\n",
              "    function loadScript(lib) {\n",
              "      return new Promise(function(resolve, reject) {\n",
              "        var s = document.createElement('script');\n",
              "        s.src = paths[lib];\n",
              "        s.async = true;\n",
              "        s.onload = () => resolve(paths[lib]);\n",
              "        s.onerror = () => reject(`Error loading script: ${paths[lib]}`);\n",
              "        document.getElementsByTagName(\"head\")[0].appendChild(s);\n",
              "      });\n",
              "    }\n",
              "\n",
              "    function showError(err) {\n",
              "      outputDiv.innerHTML = `<div class=\"error\" style=\"color:red;\">${err}</div>`;\n",
              "      throw err;\n",
              "    }\n",
              "\n",
              "    function displayChart(vegaEmbed) {\n",
              "      vegaEmbed(outputDiv, spec, embedOpt)\n",
              "        .catch(err => showError(`Javascript Error: ${err.message}<br>This usually means there's a typo in your chart specification. See the javascript console for the full traceback.`));\n",
              "    }\n",
              "\n",
              "    if(typeof define === \"function\" && define.amd) {\n",
              "      requirejs.config({paths});\n",
              "      require([\"vega-embed\"], displayChart, err => showError(`Error loading script: ${err.message}`));\n",
              "    } else if (typeof vegaEmbed === \"function\") {\n",
              "      displayChart(vegaEmbed);\n",
              "    } else {\n",
              "      loadScript(\"vega\")\n",
              "        .then(() => loadScript(\"vega-lite\"))\n",
              "        .then(() => loadScript(\"vega-embed\"))\n",
              "        .catch(showError)\n",
              "        .then(() => displayChart(vegaEmbed));\n",
              "    }\n",
              "  })({\"config\": {\"view\": {\"continuousWidth\": 400, \"continuousHeight\": 300}}, \"layer\": [{\"data\": {\"name\": \"data-4ce8871f094b224ced55e8bff808911d\"}, \"mark\": \"rect\", \"encoding\": {\"color\": {\"type\": \"nominal\", \"field\": \"event\"}, \"x\": {\"type\": \"temporal\", \"field\": \"start\"}, \"x2\": {\"field\": \"end\"}}}, {\"data\": {\"name\": \"data-e6231918b9f7245ff1bf04ae9d33d23a\"}, \"mark\": {\"type\": \"line\", \"color\": \"#333\"}, \"encoding\": {\"x\": {\"type\": \"temporal\", \"axis\": {\"format\": \"%Y\"}, \"field\": \"year\"}, \"y\": {\"type\": \"quantitative\", \"field\": \"Food availibility per capita (kg/cap/year)\"}}, \"height\": 300, \"width\": 500}, {\"data\": {\"name\": \"data-e6231918b9f7245ff1bf04ae9d33d23a\"}, \"mark\": {\"type\": \"point\", \"color\": \"#333\"}, \"encoding\": {\"x\": {\"type\": \"temporal\", \"axis\": {\"format\": \"%Y\"}, \"field\": \"year\"}, \"y\": {\"type\": \"quantitative\", \"field\": \"Food availibility per capita (kg/cap/year)\"}}, \"height\": 300, \"width\": 500}], \"$schema\": \"https://vega.github.io/schema/vega-lite/v4.8.1.json\", \"datasets\": {\"data-4ce8871f094b224ced55e8bff808911d\": [{\"start\": \"1980\", \"end\": \"1990\", \"event\": \"Challenges against Kenneth Kaunda regime (single party)\"}, {\"start\": \"1991\", \"end\": \"1992\", \"event\": \"First multi-party elections\"}, {\"start\": \"1992\", \"end\": \"2013\", \"event\": \"Liberal policy\"}, {\"start\": \"2002\", \"end\": \"2003\", \"event\": \"Famine\"}], \"data-e6231918b9f7245ff1bf04ae9d33d23a\": [{\"year\": \"1980\", \"Food availibility per capita (kg/cap/year)\": 213.006102}, {\"year\": \"1981\", \"Food availibility per capita (kg/cap/year)\": 209.943961}, {\"year\": \"1982\", \"Food availibility per capita (kg/cap/year)\": 198.113501}, {\"year\": \"1983\", \"Food availibility per capita (kg/cap/year)\": 200.652256}, {\"year\": \"1984\", \"Food availibility per capita (kg/cap/year)\": 199.174007}, {\"year\": \"1985\", \"Food availibility per capita (kg/cap/year)\": 192.383677}, {\"year\": \"1986\", \"Food availibility per capita (kg/cap/year)\": 194.505178}, {\"year\": \"1987\", \"Food availibility per capita (kg/cap/year)\": 192.854528}, {\"year\": \"1988\", \"Food availibility per capita (kg/cap/year)\": 195.415408}, {\"year\": \"1989\", \"Food availibility per capita (kg/cap/year)\": 193.750858}, {\"year\": \"1990\", \"Food availibility per capita (kg/cap/year)\": 198.835274}, {\"year\": \"1991\", \"Food availibility per capita (kg/cap/year)\": 178.578242}, {\"year\": \"1992\", \"Food availibility per capita (kg/cap/year)\": 169.362031}, {\"year\": \"1993\", \"Food availibility per capita (kg/cap/year)\": 183.264442}, {\"year\": \"1994\", \"Food availibility per capita (kg/cap/year)\": 175.286235}, {\"year\": \"1995\", \"Food availibility per capita (kg/cap/year)\": 169.110664}, {\"year\": \"1996\", \"Food availibility per capita (kg/cap/year)\": 167.338696}, {\"year\": \"1997\", \"Food availibility per capita (kg/cap/year)\": 161.098573}, {\"year\": \"1998\", \"Food availibility per capita (kg/cap/year)\": 141.595014}, {\"year\": \"1999\", \"Food availibility per capita (kg/cap/year)\": 146.469081}, {\"year\": \"2000\", \"Food availibility per capita (kg/cap/year)\": 134.764539}, {\"year\": \"2001\", \"Food availibility per capita (kg/cap/year)\": 139.710353}, {\"year\": \"2002\", \"Food availibility per capita (kg/cap/year)\": 125.957625}, {\"year\": \"2003\", \"Food availibility per capita (kg/cap/year)\": 138.124819}, {\"year\": \"2004\", \"Food availibility per capita (kg/cap/year)\": 137.397087}, {\"year\": \"2005\", \"Food availibility per capita (kg/cap/year)\": 135.369203}, {\"year\": \"2006\", \"Food availibility per capita (kg/cap/year)\": 136.983614}, {\"year\": \"2007\", \"Food availibility per capita (kg/cap/year)\": 137.636198}, {\"year\": \"2008\", \"Food availibility per capita (kg/cap/year)\": 145.855477}, {\"year\": \"2009\", \"Food availibility per capita (kg/cap/year)\": 146.970631}, {\"year\": \"2010\", \"Food availibility per capita (kg/cap/year)\": 150.969883}, {\"year\": \"2011\", \"Food availibility per capita (kg/cap/year)\": 152.932415}, {\"year\": \"2012\", \"Food availibility per capita (kg/cap/year)\": 148.678663}, {\"year\": \"2013\", \"Food availibility per capita (kg/cap/year)\": 147.036403}]}}, {\"mode\": \"vega-lite\"});\n",
              "</script>"
            ]
          },
          "metadata": {
            "tags": []
          },
          "execution_count": 66
        }
      ]
    },
    {
      "cell_type": "code",
      "metadata": {
        "colab": {
          "base_uri": "https://localhost:8080/",
          "height": 368
        },
        "id": "SA6qtcQohnxR",
        "outputId": "b75e2286-6e2d-4ffe-ec81-7b3492357ebd"
      },
      "source": [
        "Zimbabwe = [\n",
        "      {\"year\": \"1980\", \"Food availibility per capita (kg/cap/year)\": 195.509380},\n",
        "      {\"year\": \"1981\", \"Food availibility per capita (kg/cap/year)\": 184.402859},\n",
        "      {\"year\": \"1982\", \"Food availibility per capita (kg/cap/year)\": 180.042037},\n",
        "      {\"year\": \"1983\", \"Food availibility per capita (kg/cap/year)\": 173.834230},\n",
        "      {\"year\": \"1984\", \"Food availibility per capita (kg/cap/year)\": 175.072583},\n",
        "      {\"year\": \"1985\", \"Food availibility per capita (kg/cap/year)\": 166.554088},\n",
        "      {\"year\": \"1986\", \"Food availibility per capita (kg/cap/year)\": 166.572215},\n",
        "      {\"year\": \"1987\", \"Food availibility per capita (kg/cap/year)\": 164.461898},\n",
        "      {\"year\": \"1988\", \"Food availibility per capita (kg/cap/year)\": 161.380330},\n",
        "      {\"year\": \"1989\", \"Food availibility per capita (kg/cap/year)\": 163.137636},\n",
        "      {\"year\": \"1990\", \"Food availibility per capita (kg/cap/year)\": 191.616452},\n",
        "      {\"year\": \"1991\", \"Food availibility per capita (kg/cap/year)\": 165.266202},\n",
        "      {\"year\": \"1992\", \"Food availibility per capita (kg/cap/year)\": 156.248688},\n",
        "      {\"year\": \"1993\", \"Food availibility per capita (kg/cap/year)\": 162.229581},\n",
        "      {\"year\": \"1994\", \"Food availibility per capita (kg/cap/year)\": 164.822142},\n",
        "      {\"year\": \"1995\", \"Food availibility per capita (kg/cap/year)\": 159.016292},\n",
        "      {\"year\": \"1996\", \"Food availibility per capita (kg/cap/year)\": 164.413141},\n",
        "      {\"year\": \"1997\", \"Food availibility per capita (kg/cap/year)\": 155.971069},\n",
        "      {\"year\": \"1998\", \"Food availibility per capita (kg/cap/year)\": 157.807848},\n",
        "      {\"year\": \"1999\", \"Food availibility per capita (kg/cap/year)\": 154.413555},\n",
        "      {\"year\": \"2000\", \"Food availibility per capita (kg/cap/year)\": 153.414821},\n",
        "      {\"year\": \"2001\", \"Food availibility per capita (kg/cap/year)\": 153.032837},\n",
        "      {\"year\": \"2002\", \"Food availibility per capita (kg/cap/year)\": 152.664677},\n",
        "      {\"year\": \"2003\", \"Food availibility per capita (kg/cap/year)\": 154.186172},\n",
        "      {\"year\": \"2004\", \"Food availibility per capita (kg/cap/year)\": 203.442918},\n",
        "      {\"year\": \"2005\", \"Food availibility per capita (kg/cap/year)\": 155.335290},\n",
        "      {\"year\": \"2006\", \"Food availibility per capita (kg/cap/year)\": 162.032954},\n",
        "      {\"year\": \"2007\", \"Food availibility per capita (kg/cap/year)\": 165.628805},\n",
        "      {\"year\": \"2008\", \"Food availibility per capita (kg/cap/year)\": 153.700079},\n",
        "      {\"year\": \"2009\", \"Food availibility per capita (kg/cap/year)\": 141.317483},\n",
        "      {\"year\": \"2010\", \"Food availibility per capita (kg/cap/year)\": 136.990970},\n",
        "      {\"year\": \"2011\", \"Food availibility per capita (kg/cap/year)\": 139.933312},\n",
        "      {\"year\": \"2012\", \"Food availibility per capita (kg/cap/year)\": 142.318797},\n",
        "      {\"year\": \"2013\", \"Food availibility per capita (kg/cap/year)\": 143.292102},\n",
        "    ]\n",
        "\n",
        "Events = [{\"start\": \"1980\",\"end\": \"1981\",\"event\": \"Proclamation of independence\"},{\"start\":\"1987\",\"end\":\"2008\",\"event\":\"Authoritarian regime\"},{\"start\":\"2008\",\"end\":\"2009\",\"event\":\"Majority democratic in the assembly\"},{\"start\":\"2009\",\"end\":\"2010\",\"event\":\"Inflationary explosion\"}]\n",
        "\n",
        "\n",
        "Zimbabwe = alt.pd.DataFrame(Zimbabwe)\n",
        "Events = alt.pd.DataFrame(Events)\n",
        "\n",
        "\n",
        "line = alt.Chart(Zimbabwe).mark_line(color='#333').encode(\n",
        "    alt.X('year:T', axis=alt.Axis(format='%Y')),\n",
        "    y='Food availibility per capita (kg/cap/year)'\n",
        ").properties(\n",
        "    width=500,\n",
        "    height=300\n",
        ")\n",
        "\n",
        "point = line.mark_point(color='#333')\n",
        "\n",
        "rect = alt.Chart(Events).mark_rect().encode(\n",
        "    x='start:T',\n",
        "    x2='end:T',\n",
        "    color='event:N'\n",
        ")\n",
        "\n",
        "rect + line + point"
      ],
      "execution_count": 67,
      "outputs": [
        {
          "output_type": "execute_result",
          "data": {
            "text/plain": [
              "alt.LayerChart(...)"
            ],
            "text/html": [
              "\n",
              "<div id=\"altair-viz-c3985eb01e8045f481da9ea33138cedb\"></div>\n",
              "<script type=\"text/javascript\">\n",
              "  (function(spec, embedOpt){\n",
              "    let outputDiv = document.currentScript.previousElementSibling;\n",
              "    if (outputDiv.id !== \"altair-viz-c3985eb01e8045f481da9ea33138cedb\") {\n",
              "      outputDiv = document.getElementById(\"altair-viz-c3985eb01e8045f481da9ea33138cedb\");\n",
              "    }\n",
              "    const paths = {\n",
              "      \"vega\": \"https://cdn.jsdelivr.net/npm//vega@5?noext\",\n",
              "      \"vega-lib\": \"https://cdn.jsdelivr.net/npm//vega-lib?noext\",\n",
              "      \"vega-lite\": \"https://cdn.jsdelivr.net/npm//vega-lite@4.8.1?noext\",\n",
              "      \"vega-embed\": \"https://cdn.jsdelivr.net/npm//vega-embed@6?noext\",\n",
              "    };\n",
              "\n",
              "    function loadScript(lib) {\n",
              "      return new Promise(function(resolve, reject) {\n",
              "        var s = document.createElement('script');\n",
              "        s.src = paths[lib];\n",
              "        s.async = true;\n",
              "        s.onload = () => resolve(paths[lib]);\n",
              "        s.onerror = () => reject(`Error loading script: ${paths[lib]}`);\n",
              "        document.getElementsByTagName(\"head\")[0].appendChild(s);\n",
              "      });\n",
              "    }\n",
              "\n",
              "    function showError(err) {\n",
              "      outputDiv.innerHTML = `<div class=\"error\" style=\"color:red;\">${err}</div>`;\n",
              "      throw err;\n",
              "    }\n",
              "\n",
              "    function displayChart(vegaEmbed) {\n",
              "      vegaEmbed(outputDiv, spec, embedOpt)\n",
              "        .catch(err => showError(`Javascript Error: ${err.message}<br>This usually means there's a typo in your chart specification. See the javascript console for the full traceback.`));\n",
              "    }\n",
              "\n",
              "    if(typeof define === \"function\" && define.amd) {\n",
              "      requirejs.config({paths});\n",
              "      require([\"vega-embed\"], displayChart, err => showError(`Error loading script: ${err.message}`));\n",
              "    } else if (typeof vegaEmbed === \"function\") {\n",
              "      displayChart(vegaEmbed);\n",
              "    } else {\n",
              "      loadScript(\"vega\")\n",
              "        .then(() => loadScript(\"vega-lite\"))\n",
              "        .then(() => loadScript(\"vega-embed\"))\n",
              "        .catch(showError)\n",
              "        .then(() => displayChart(vegaEmbed));\n",
              "    }\n",
              "  })({\"config\": {\"view\": {\"continuousWidth\": 400, \"continuousHeight\": 300}}, \"layer\": [{\"data\": {\"name\": \"data-6b406e85e4baac937f16713621f3a672\"}, \"mark\": \"rect\", \"encoding\": {\"color\": {\"type\": \"nominal\", \"field\": \"event\"}, \"x\": {\"type\": \"temporal\", \"field\": \"start\"}, \"x2\": {\"field\": \"end\"}}}, {\"data\": {\"name\": \"data-e8d2bf45fa367d29a42566bfe500191f\"}, \"mark\": {\"type\": \"line\", \"color\": \"#333\"}, \"encoding\": {\"x\": {\"type\": \"temporal\", \"axis\": {\"format\": \"%Y\"}, \"field\": \"year\"}, \"y\": {\"type\": \"quantitative\", \"field\": \"Food availibility per capita (kg/cap/year)\"}}, \"height\": 300, \"width\": 500}, {\"data\": {\"name\": \"data-e8d2bf45fa367d29a42566bfe500191f\"}, \"mark\": {\"type\": \"point\", \"color\": \"#333\"}, \"encoding\": {\"x\": {\"type\": \"temporal\", \"axis\": {\"format\": \"%Y\"}, \"field\": \"year\"}, \"y\": {\"type\": \"quantitative\", \"field\": \"Food availibility per capita (kg/cap/year)\"}}, \"height\": 300, \"width\": 500}], \"$schema\": \"https://vega.github.io/schema/vega-lite/v4.8.1.json\", \"datasets\": {\"data-6b406e85e4baac937f16713621f3a672\": [{\"start\": \"1980\", \"end\": \"1981\", \"event\": \"Proclamation of independence\"}, {\"start\": \"1987\", \"end\": \"2008\", \"event\": \"Authoritarian regime\"}, {\"start\": \"2008\", \"end\": \"2009\", \"event\": \"Majority democratic in the assembly\"}, {\"start\": \"2009\", \"end\": \"2010\", \"event\": \"Inflationary explosion\"}], \"data-e8d2bf45fa367d29a42566bfe500191f\": [{\"year\": \"1980\", \"Food availibility per capita (kg/cap/year)\": 195.50938}, {\"year\": \"1981\", \"Food availibility per capita (kg/cap/year)\": 184.402859}, {\"year\": \"1982\", \"Food availibility per capita (kg/cap/year)\": 180.042037}, {\"year\": \"1983\", \"Food availibility per capita (kg/cap/year)\": 173.83423}, {\"year\": \"1984\", \"Food availibility per capita (kg/cap/year)\": 175.072583}, {\"year\": \"1985\", \"Food availibility per capita (kg/cap/year)\": 166.554088}, {\"year\": \"1986\", \"Food availibility per capita (kg/cap/year)\": 166.572215}, {\"year\": \"1987\", \"Food availibility per capita (kg/cap/year)\": 164.461898}, {\"year\": \"1988\", \"Food availibility per capita (kg/cap/year)\": 161.38033}, {\"year\": \"1989\", \"Food availibility per capita (kg/cap/year)\": 163.137636}, {\"year\": \"1990\", \"Food availibility per capita (kg/cap/year)\": 191.616452}, {\"year\": \"1991\", \"Food availibility per capita (kg/cap/year)\": 165.266202}, {\"year\": \"1992\", \"Food availibility per capita (kg/cap/year)\": 156.248688}, {\"year\": \"1993\", \"Food availibility per capita (kg/cap/year)\": 162.229581}, {\"year\": \"1994\", \"Food availibility per capita (kg/cap/year)\": 164.822142}, {\"year\": \"1995\", \"Food availibility per capita (kg/cap/year)\": 159.016292}, {\"year\": \"1996\", \"Food availibility per capita (kg/cap/year)\": 164.413141}, {\"year\": \"1997\", \"Food availibility per capita (kg/cap/year)\": 155.971069}, {\"year\": \"1998\", \"Food availibility per capita (kg/cap/year)\": 157.807848}, {\"year\": \"1999\", \"Food availibility per capita (kg/cap/year)\": 154.413555}, {\"year\": \"2000\", \"Food availibility per capita (kg/cap/year)\": 153.414821}, {\"year\": \"2001\", \"Food availibility per capita (kg/cap/year)\": 153.032837}, {\"year\": \"2002\", \"Food availibility per capita (kg/cap/year)\": 152.664677}, {\"year\": \"2003\", \"Food availibility per capita (kg/cap/year)\": 154.186172}, {\"year\": \"2004\", \"Food availibility per capita (kg/cap/year)\": 203.442918}, {\"year\": \"2005\", \"Food availibility per capita (kg/cap/year)\": 155.33529}, {\"year\": \"2006\", \"Food availibility per capita (kg/cap/year)\": 162.032954}, {\"year\": \"2007\", \"Food availibility per capita (kg/cap/year)\": 165.628805}, {\"year\": \"2008\", \"Food availibility per capita (kg/cap/year)\": 153.700079}, {\"year\": \"2009\", \"Food availibility per capita (kg/cap/year)\": 141.317483}, {\"year\": \"2010\", \"Food availibility per capita (kg/cap/year)\": 136.99097}, {\"year\": \"2011\", \"Food availibility per capita (kg/cap/year)\": 139.933312}, {\"year\": \"2012\", \"Food availibility per capita (kg/cap/year)\": 142.318797}, {\"year\": \"2013\", \"Food availibility per capita (kg/cap/year)\": 143.292102}]}}, {\"mode\": \"vega-lite\"});\n",
              "</script>"
            ]
          },
          "metadata": {
            "tags": []
          },
          "execution_count": 67
        }
      ]
    },
    {
      "cell_type": "markdown",
      "metadata": {
        "id": "bhDkKsr9o-Lb"
      },
      "source": [
        "Sources used to study the principal political events since 1980 in these countries :\n",
        "https://perspective.usherbrooke.ca/bilan/BMEncyclopedie/BMEphemeride.jsp \n",
        "\n",
        "https://fr.wikipedia.org/wiki/Wikip%C3%A9dia:Accueil_principal\n",
        "\n"
      ]
    }
  ]
}